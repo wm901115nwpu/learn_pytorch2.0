{
  "nbformat": 4,
  "nbformat_minor": 0,
  "metadata": {
    "colab": {
      "provenance": [],
      "gpuType": "T4"
    },
    "kernelspec": {
      "name": "python3",
      "display_name": "Python 3"
    },
    "language_info": {
      "name": "python"
    },
    "accelerator": "GPU"
  },
  "cells": [
    {
      "cell_type": "code",
      "source": [
        "!pip install triton"
      ],
      "metadata": {
        "id": "Dat1OjMx0Mlk",
        "colab": {
          "base_uri": "https://localhost:8080/"
        },
        "outputId": "6da18622-f5e4-47e1-fca2-de7a2bae8f90"
      },
      "execution_count": null,
      "outputs": [
        {
          "output_type": "stream",
          "name": "stdout",
          "text": [
            "Collecting triton\n",
            "  Downloading triton-3.1.0-cp310-cp310-manylinux_2_17_x86_64.manylinux2014_x86_64.whl.metadata (1.3 kB)\n",
            "Requirement already satisfied: filelock in /usr/local/lib/python3.10/dist-packages (from triton) (3.16.1)\n",
            "Downloading triton-3.1.0-cp310-cp310-manylinux_2_17_x86_64.manylinux2014_x86_64.whl (209.5 MB)\n",
            "\u001b[2K   \u001b[90m━━━━━━━━━━━━━━━━━━━━━━━━━━━━━━━━━━━━━━━━\u001b[0m \u001b[32m209.5/209.5 MB\u001b[0m \u001b[31m3.9 MB/s\u001b[0m eta \u001b[36m0:00:00\u001b[0m\n",
            "\u001b[?25hInstalling collected packages: triton\n",
            "Successfully installed triton-3.1.0\n"
          ]
        }
      ]
    },
    {
      "cell_type": "code",
      "source": [
        "import os\n",
        "os.environ['TORCH_LOGS_FORMAT'] = \"%(message)s\"\n",
        "import torch"
      ],
      "metadata": {
        "id": "CAj-ZJAaJfbE"
      },
      "execution_count": null,
      "outputs": []
    },
    {
      "cell_type": "markdown",
      "source": [
        "\n",
        "\n",
        "First, let's define our function. We will perform two pointwise operations and then compute the matmul with two weights w1 and w2.\n",
        "\n",
        "Note that in this case, w1 and w2 will be closed over variables.\n"
      ],
      "metadata": {
        "id": "jNE5SXM-N7T3"
      }
    },
    {
      "cell_type": "code",
      "source": [
        "w1 = torch.randn(64, 64)\n",
        "w2 = torch.randn(64, 64)\n",
        "\n",
        "def f(x):\n",
        "    x = x.cos()\n",
        "    x = x.sin()\n",
        "    a = torch.mm(x, w1)\n",
        "    b = torch.mm(x, w2)\n",
        "    return a, b\n",
        "\n",
        "x = torch.randn(32, 64)\n",
        "output = torch.compile(f)(x)\n",
        "output2 = f(x)"
      ],
      "metadata": {
        "id": "ZVAR6pPXJt2v"
      },
      "execution_count": null,
      "outputs": []
    },
    {
      "cell_type": "markdown",
      "source": [
        "Now, let's see the graph format that torch.compile captures and passes to Inductor. This can be normally be done by setting the environmental variable `TORCH_LOGS=\"aot_graphs\"`, but we will manually set the logging here in the notebook."
      ],
      "metadata": {
        "id": "e3gQgePeOeye"
      }
    },
    {
      "cell_type": "code",
      "source": [
        "x = torch.randn(32, 64)\n",
        "torch._logging.set_logs(aot_graphs=True)\n",
        "\n",
        "res = torch.compile(f)(x)"
      ],
      "metadata": {
        "id": "ZpDIRo09OP87"
      },
      "execution_count": null,
      "outputs": []
    },
    {
      "cell_type": "markdown",
      "source": [
        "Note that we can also get the graph called in the backwards pass. Just like with normal Pytorch semantics, this is accomplished whenever we need to perform backpropagation."
      ],
      "metadata": {
        "id": "n-3LopHsOtwP"
      }
    },
    {
      "cell_type": "code",
      "source": [
        "x = torch.randn(32, 64, requires_grad=True)\n",
        "torch._logging.set_logs(aot_graphs=True)\n",
        "\n",
        "res = torch.compile(f)(x)"
      ],
      "metadata": {
        "id": "drZlPD4xOp2Q",
        "colab": {
          "base_uri": "https://localhost:8080/"
        },
        "outputId": "39419610-e7fc-4e77-a46d-df42272bf01e"
      },
      "execution_count": null,
      "outputs": [
        {
          "output_type": "stream",
          "name": "stderr",
          "text": [
            "aot_config id: 1, fw_metadata=ViewAndMutationMeta(input_info=[InputAliasInfo(is_leaf=True, mutates_data=False, mutates_metadata=False, mutations_hidden_from_autograd=True, mutations_under_no_grad_or_inference_mode=False, mutation_inductor_storage_resize=False, mutates_storage_metadata=False, requires_grad=True, keep_input_mutations=True), InputAliasInfo(is_leaf=True, mutates_data=False, mutates_metadata=False, mutations_hidden_from_autograd=True, mutations_under_no_grad_or_inference_mode=False, mutation_inductor_storage_resize=False, mutates_storage_metadata=False, requires_grad=False, keep_input_mutations=True), InputAliasInfo(is_leaf=True, mutates_data=False, mutates_metadata=False, mutations_hidden_from_autograd=True, mutations_under_no_grad_or_inference_mode=False, mutation_inductor_storage_resize=False, mutates_storage_metadata=False, requires_grad=False, keep_input_mutations=True)], output_info=[OutputAliasInfo(output_type=<OutputType.non_alias: 1>, raw_type=<class 'torch._subclasses.functional_tensor.FunctionalTensor'>, base_idx=None, dynamic_dims=set(), requires_grad=True, functional_tensor=None), OutputAliasInfo(output_type=<OutputType.non_alias: 1>, raw_type=<class 'torch._subclasses.functional_tensor.FunctionalTensor'>, base_idx=None, dynamic_dims=set(), requires_grad=True, functional_tensor=None)], num_intermediate_bases=0, keep_input_mutations=True, traced_tangents=[FakeTensor(..., size=(32, 64)), FakeTensor(..., size=(32, 64))], subclass_inp_meta=[0, 1, 2], subclass_fw_graph_out_meta=[0, 1], subclass_tangent_meta=[0, 1], is_train=True, traced_tangent_metas=None, num_symints_saved_for_bw=0, grad_enabled_mutation=None, deterministic=False, static_input_indices=[], tokens={}, indices_of_inputs_that_requires_grad_with_mutations_in_bw=[], bw_donated_idxs=None, num_backward_tokens=0), inner_meta=ViewAndMutationMeta(input_info=[InputAliasInfo(is_leaf=True, mutates_data=False, mutates_metadata=False, mutations_hidden_from_autograd=True, mutations_under_no_grad_or_inference_mode=False, mutation_inductor_storage_resize=False, mutates_storage_metadata=False, requires_grad=True, keep_input_mutations=True), InputAliasInfo(is_leaf=True, mutates_data=False, mutates_metadata=False, mutations_hidden_from_autograd=True, mutations_under_no_grad_or_inference_mode=False, mutation_inductor_storage_resize=False, mutates_storage_metadata=False, requires_grad=False, keep_input_mutations=True), InputAliasInfo(is_leaf=True, mutates_data=False, mutates_metadata=False, mutations_hidden_from_autograd=True, mutations_under_no_grad_or_inference_mode=False, mutation_inductor_storage_resize=False, mutates_storage_metadata=False, requires_grad=False, keep_input_mutations=True)], output_info=[OutputAliasInfo(output_type=<OutputType.non_alias: 1>, raw_type=<class 'torch._subclasses.functional_tensor.FunctionalTensor'>, base_idx=None, dynamic_dims=set(), requires_grad=True, functional_tensor=None), OutputAliasInfo(output_type=<OutputType.non_alias: 1>, raw_type=<class 'torch._subclasses.functional_tensor.FunctionalTensor'>, base_idx=None, dynamic_dims=set(), requires_grad=True, functional_tensor=None)], num_intermediate_bases=0, keep_input_mutations=True, traced_tangents=[FakeTensor(..., size=(32, 64)), FakeTensor(..., size=(32, 64))], subclass_inp_meta=[0, 1, 2], subclass_fw_graph_out_meta=[0, 1], subclass_tangent_meta=[0, 1], is_train=True, traced_tangent_metas=None, num_symints_saved_for_bw=0, grad_enabled_mutation=None, deterministic=False, static_input_indices=[], tokens={}, indices_of_inputs_that_requires_grad_with_mutations_in_bw=[], bw_donated_idxs=None, num_backward_tokens=0)\n",
            "TRACED GRAPH\n",
            " ===== Forward graph 1 =====\n",
            " /usr/local/lib/python3.10/dist-packages/torch/fx/_lazy_graph_module.py class GraphModule(torch.nn.Module):\n",
            "    def forward(self, primals_1: \"f32[32, 64][64, 1]cpu\", primals_2: \"f32[64, 64][64, 1]cpu\", primals_3: \"f32[64, 64][64, 1]cpu\"):\n",
            "         # File: <ipython-input-3-298f1e13bf93>:5 in f, code: x = x.cos()\n",
            "        cos: \"f32[32, 64][64, 1]cpu\" = torch.ops.aten.cos.default(primals_1)\n",
            "        \n",
            "         # File: <ipython-input-3-298f1e13bf93>:6 in f, code: x = x.sin()\n",
            "        sin: \"f32[32, 64][64, 1]cpu\" = torch.ops.aten.sin.default(cos);  cos = None\n",
            "        \n",
            "         # File: <ipython-input-3-298f1e13bf93>:7 in f, code: a = torch.mm(x, w1)\n",
            "        mm: \"f32[32, 64][64, 1]cpu\" = torch.ops.aten.mm.default(sin, primals_2)\n",
            "        \n",
            "         # File: <ipython-input-3-298f1e13bf93>:8 in f, code: b = torch.mm(x, w2)\n",
            "        mm_1: \"f32[32, 64][64, 1]cpu\" = torch.ops.aten.mm.default(sin, primals_3);  sin = None\n",
            "        permute: \"f32[64, 64][1, 64]cpu\" = torch.ops.aten.permute.default(primals_3, [1, 0]);  primals_3 = None\n",
            "        \n",
            "         # File: <ipython-input-3-298f1e13bf93>:7 in f, code: a = torch.mm(x, w1)\n",
            "        permute_1: \"f32[64, 64][1, 64]cpu\" = torch.ops.aten.permute.default(primals_2, [1, 0]);  primals_2 = None\n",
            "        return (mm, mm_1, primals_1, permute, permute_1)\n",
            "        \n",
            "\n",
            "TRACED GRAPH\n",
            " ===== Backward graph 1 =====\n",
            " <eval_with_key>.4 class GraphModule(torch.nn.Module):\n",
            "    def forward(self, primals_1: \"f32[32, 64][64, 1]cpu\", permute: \"f32[64, 64][1, 64]cpu\", permute_1: \"f32[64, 64][1, 64]cpu\", tangents_1: \"f32[32, 64][64, 1]cpu\", tangents_2: \"f32[32, 64][64, 1]cpu\"):\n",
            "         # File: <ipython-input-3-298f1e13bf93>:8 in f, code: b = torch.mm(x, w2)\n",
            "        mm_2: \"f32[32, 64][64, 1]cpu\" = torch.ops.aten.mm.default(tangents_2, permute);  tangents_2 = permute = None\n",
            "        \n",
            "         # File: <ipython-input-3-298f1e13bf93>:7 in f, code: a = torch.mm(x, w1)\n",
            "        mm_3: \"f32[32, 64][64, 1]cpu\" = torch.ops.aten.mm.default(tangents_1, permute_1);  tangents_1 = permute_1 = None\n",
            "        \n",
            "         # File: <ipython-input-3-298f1e13bf93>:7 in f, code: a = torch.mm(x, w1)\n",
            "        add: \"f32[32, 64][64, 1]cpu\" = torch.ops.aten.add.Tensor(mm_2, mm_3);  mm_2 = mm_3 = None\n",
            "        \n",
            "         # File: <ipython-input-3-298f1e13bf93>:5 in f, code: x = x.cos()\n",
            "        cos: \"f32[32, 64][64, 1]cpu\" = torch.ops.aten.cos.default(primals_1)\n",
            "        \n",
            "         # File: <ipython-input-3-298f1e13bf93>:6 in f, code: x = x.sin()\n",
            "        cos_1: \"f32[32, 64][64, 1]cpu\" = torch.ops.aten.cos.default(cos);  cos = None\n",
            "        mul: \"f32[32, 64][64, 1]cpu\" = torch.ops.aten.mul.Tensor(add, cos_1);  add = cos_1 = None\n",
            "        \n",
            "         # File: <ipython-input-3-298f1e13bf93>:5 in f, code: x = x.cos()\n",
            "        sin_1: \"f32[32, 64][64, 1]cpu\" = torch.ops.aten.sin.default(primals_1);  primals_1 = None\n",
            "        neg: \"f32[32, 64][64, 1]cpu\" = torch.ops.aten.neg.default(sin_1);  sin_1 = None\n",
            "        mul_1: \"f32[32, 64][64, 1]cpu\" = torch.ops.aten.mul.Tensor(mul, neg);  mul = neg = None\n",
            "        return (mul_1, None, None)\n",
            "        \n",
            "\n"
          ]
        }
      ]
    },
    {
      "cell_type": "markdown",
      "source": [
        "Now, let's look at the generated output code. You should see a `cpp_fused_cos_sin_0` kernel, which contains the loops for the generated pointwise function.\n",
        "\n",
        "In addition, if you scroll down, you should also see a `call(args)` function. This is the \"wrapper\" function that actually chains all the kernels together.\n",
        "\n",
        "Finally, you should also see several `extern_kernels.mm` calls - these are the cases where Inductor falls back to a pre-existing kernel, like in the case of matmuls."
      ],
      "metadata": {
        "id": "RzHRMKMzPCmd"
      }
    },
    {
      "cell_type": "code",
      "source": [
        "x = torch.randn(32, 64)\n",
        "torch._logging.set_logs(output_code=True)\n",
        "torch._dynamo.reset()\n",
        "\n",
        "res = torch.compile(f)(x)"
      ],
      "metadata": {
        "colab": {
          "base_uri": "https://localhost:8080/"
        },
        "id": "cA6Y990eO4me",
        "outputId": "f488318f-f072-4eab-b3a9-78aa4e4d8487"
      },
      "execution_count": null,
      "outputs": [
        {
          "output_type": "stream",
          "name": "stderr",
          "text": [
            "Output code written to: /tmp/torchinductor_root/6s/c6szshunbyms7k4kgiwzeiscgbkhdq4cgj3rmlnanjbwfy2rp347.py\n",
            "Output code: \n",
            "# AOT ID: ['0_inference']\n",
            "from ctypes import c_void_p, c_long, c_int\n",
            "import torch\n",
            "import math\n",
            "import random\n",
            "import os\n",
            "import tempfile\n",
            "from math import inf, nan\n",
            "from torch._inductor.hooks import run_intermediate_hooks\n",
            "from torch._inductor.utils import maybe_profile\n",
            "from torch._inductor.codegen.memory_planning import _align as align\n",
            "from torch import device, empty_strided\n",
            "from torch._inductor.async_compile import AsyncCompile\n",
            "from torch._inductor.select_algorithm import extern_kernels\n",
            "from torch._inductor.codegen.multi_kernel import MultiKernelCall\n",
            "\n",
            "aten = torch.ops.aten\n",
            "inductor_ops = torch.ops.inductor\n",
            "_quantized = torch.ops._quantized\n",
            "assert_size_stride = torch._C._dynamo.guards.assert_size_stride\n",
            "empty_strided_cpu = torch._C._dynamo.guards._empty_strided_cpu\n",
            "empty_strided_cuda = torch._C._dynamo.guards._empty_strided_cuda\n",
            "empty_strided_xpu = torch._C._dynamo.guards._empty_strided_xpu\n",
            "reinterpret_tensor = torch._C._dynamo.guards._reinterpret_tensor\n",
            "alloc_from_pool = torch.ops.inductor._alloc_from_pool\n",
            "async_compile = AsyncCompile()\n",
            "\n",
            "\n",
            "cpp_fused_cos_sin_0 = async_compile.cpp_pybinding(['const float*', 'float*'], '''\n",
            "#include \"/tmp/torchinductor_root/vu/cvuvp4i7roujum4xemrfwnb3t4c5t3r3mihr4b7iegh6tcqvdg43.h\"\n",
            "extern \"C\"  void kernel(const float* in_ptr0,\n",
            "                       float* out_ptr0)\n",
            "{\n",
            "    {\n",
            "        for(int64_t x0=static_cast<int64_t>(0L); x0<static_cast<int64_t>(2048L); x0+=static_cast<int64_t>(8L))\n",
            "        {\n",
            "            auto tmp0 = at::vec::Vectorized<float>::loadu(in_ptr0 + static_cast<int64_t>(x0), static_cast<int64_t>(8));\n",
            "            auto tmp1 = tmp0.cos();\n",
            "            auto tmp2 = tmp1.sin();\n",
            "            tmp2.store(out_ptr0 + static_cast<int64_t>(x0));\n",
            "        }\n",
            "    }\n",
            "}\n",
            "''')\n",
            "\n",
            "\n",
            "async_compile.wait(globals())\n",
            "del async_compile\n",
            "\n",
            "def call(args):\n",
            "    arg0_1, arg1_1, arg2_1 = args\n",
            "    args.clear()\n",
            "    assert_size_stride(arg0_1, (32, 64), (64, 1))\n",
            "    assert_size_stride(arg1_1, (64, 64), (64, 1))\n",
            "    assert_size_stride(arg2_1, (64, 64), (64, 1))\n",
            "    buf0 = empty_strided_cpu((32, 64), (64, 1), torch.float32)\n",
            "    cpp_fused_cos_sin_0(arg0_1, buf0)\n",
            "    del arg0_1\n",
            "    buf1 = empty_strided_cpu((32, 64), (64, 1), torch.float32)\n",
            "    # Topologically Sorted Source Nodes: [a], Original ATen: [aten.mm]\n",
            "    extern_kernels.mm(buf0, arg1_1, out=buf1)\n",
            "    del arg1_1\n",
            "    buf2 = empty_strided_cpu((32, 64), (64, 1), torch.float32)\n",
            "    # Topologically Sorted Source Nodes: [b], Original ATen: [aten.mm]\n",
            "    extern_kernels.mm(buf0, arg2_1, out=buf2)\n",
            "    del arg2_1\n",
            "    return (buf1, buf2, )\n",
            "\n",
            "\n",
            "def benchmark_compiled_module(times=10, repeat=10):\n",
            "    from torch._dynamo.testing import rand_strided\n",
            "    from torch._inductor.utils import print_performance\n",
            "    arg0_1 = rand_strided((32, 64), (64, 1), device='cpu', dtype=torch.float32)\n",
            "    arg1_1 = rand_strided((64, 64), (64, 1), device='cpu', dtype=torch.float32)\n",
            "    arg2_1 = rand_strided((64, 64), (64, 1), device='cpu', dtype=torch.float32)\n",
            "    fn = lambda: call([arg0_1, arg1_1, arg2_1])\n",
            "    return print_performance(fn, times=times, repeat=repeat)\n",
            "\n",
            "\n",
            "if __name__ == \"__main__\":\n",
            "    from torch._inductor.wrapper_benchmark import compiled_module_main\n",
            "    compiled_module_main('None', benchmark_compiled_module)\n",
            "\n"
          ]
        }
      ]
    },
    {
      "cell_type": "markdown",
      "source": [
        "# Lowering a custom operator\n",
        "\n",
        "First we define a custom operator implementing a conversion from jagged tensor to a dense tensor with added padding.\n",
        "\n",
        "![j2pd.png](data:image/png;base64,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)"
      ],
      "metadata": {
        "id": "W-PgOYO_7Fh2"
      }
    },
    {
      "cell_type": "code",
      "execution_count": null,
      "metadata": {
        "id": "o78AfCdiQfbV"
      },
      "outputs": [],
      "source": [
        "import torch\n",
        "\n",
        "\n",
        "jagged_lib = torch.library.Library(\"jagged\", \"DEF\")\n",
        "jagged_lib.define(\n",
        "    \"jagged_to_padded_dense(Tensor input, Tensor offsets, SymInt max_seq_len, Scalar pad_value) -> Tensor\"\n",
        ")\n",
        "jagged_impl = torch.library.Library(\n",
        "    \"jagged\", \"IMPL\", \"CompositeExplicitAutograd\"\n",
        ")\n",
        "jagged_meta = torch.library.Library(\n",
        "    \"jagged\", \"IMPL\", \"Meta\"\n",
        ")\n",
        "\n",
        "def j2pd_meta(inp, offsets, max_seq_len, pad_value):\n",
        "    return torch.empty(\n",
        "    (offsets.shape[0] - 1, max_seq_len),\n",
        "    device=inp.device,\n",
        "    dtype=inp.dtype,\n",
        ")\n",
        "\n",
        "def j2pd_impl(inp, offsets, max_seq_len, pad_value):\n",
        "    res = torch.full(\n",
        "        (offsets.shape[0] - 1, max_seq_len),\n",
        "        pad_value,\n",
        "        device=inp.device,\n",
        "        dtype=inp.dtype,\n",
        "    )\n",
        "    for b in range(offsets.shape[0] - 1):\n",
        "        begin = offsets[b]\n",
        "        end = offsets[b + 1]\n",
        "\n",
        "        res[b][:end - begin] = inp[begin:end]\n",
        "    return res\n",
        "\n",
        "\n",
        "\n",
        "jagged_impl.impl(\"jagged_to_padded_dense\", j2pd_impl)\n",
        "jagged_meta.impl(\"jagged_to_padded_dense\", j2pd_meta)"
      ]
    },
    {
      "cell_type": "markdown",
      "source": [
        "We can see how this works by running a small example"
      ],
      "metadata": {
        "id": "6F1RtdOV7jwd"
      }
    },
    {
      "cell_type": "code",
      "source": [
        "inp = torch.tensor([1, 2, 3, 4, 5, 6])\n",
        "offsets = torch.tensor([0, 2, 5, 6])\n",
        "max_seq_len = 3\n",
        "pad_value = 0\n",
        "torch.ops.jagged.jagged_to_padded_dense(inp, offsets, max_seq_len, pad_value)"
      ],
      "metadata": {
        "colab": {
          "base_uri": "https://localhost:8080/"
        },
        "id": "QpUdU3yH7peQ",
        "outputId": "a85e5939-f99f-4b83-cd1d-ad0e7b453339"
      },
      "execution_count": null,
      "outputs": [
        {
          "output_type": "execute_result",
          "data": {
            "text/plain": [
              "tensor([[1, 2, 0],\n",
              "        [3, 4, 5],\n",
              "        [6, 0, 0]])"
            ]
          },
          "metadata": {},
          "execution_count": 8
        }
      ]
    },
    {
      "cell_type": "markdown",
      "source": [
        "Now we implement a lowering to inductor IR"
      ],
      "metadata": {
        "id": "XtuQkkJU7q58"
      }
    },
    {
      "cell_type": "code",
      "source": [
        "from torch._inductor.ir import Pointwise\n",
        "from torch._inductor.lowering import register_lowering\n",
        "from torch._inductor.virtualized import ops\n",
        "\n",
        "\n",
        "@register_lowering(\n",
        "    torch.ops.jagged.jagged_to_padded_dense, type_promotion_kind=None\n",
        ")\n",
        "def j2pd_lowering(inp, offsets, max_seq_len, pad_value):\n",
        "    offsets_loader = offsets.make_loader()\n",
        "    inp_loader = inp.make_loader()\n",
        "    jagged_len = inp.get_size()[0]\n",
        "    offsets_dtype = offsets.get_dtype()\n",
        "\n",
        "    def inner_fn(index):\n",
        "        batch_idx, seq_idx = index\n",
        "\n",
        "        begin_idx = ops.indirect_indexing(\n",
        "            offsets_loader([batch_idx]),\n",
        "            jagged_len + 1,\n",
        "        )\n",
        "        end_idx = offsets_loader([batch_idx + 1])\n",
        "        jagged_idx = begin_idx + seq_idx\n",
        "\n",
        "        mask = ops.lt(\n",
        "            ops.index_expr(jagged_idx, offsets_dtype),\n",
        "            end_idx,\n",
        "        )\n",
        "\n",
        "        return ops.masked(mask, lambda: inp_loader([jagged_idx]), pad_value)\n",
        "\n",
        "    return Pointwise.create(\n",
        "        device=inp.get_device(),\n",
        "        dtype=inp.get_dtype(),\n",
        "        inner_fn=inner_fn,\n",
        "        ranges=[offsets.get_size()[0] - 1, max_seq_len],\n",
        "    )"
      ],
      "metadata": {
        "id": "3t4vWnyc7xNc"
      },
      "execution_count": null,
      "outputs": []
    },
    {
      "cell_type": "markdown",
      "source": [
        "With this we see significant speedups compared to the eager pytorch implentation"
      ],
      "metadata": {
        "id": "R_uI9Ovh72fQ"
      }
    },
    {
      "cell_type": "code",
      "source": [
        "ssizes = torch.arange(1024)\n",
        "offsets = torch.cumsum(ssizes, dim=0)\n",
        "\n",
        "inp = torch.randn(ssizes.sum().item())\n",
        "max_seq_len = 1024\n",
        "pad_value = 0.0\n",
        "\n",
        "j2pd = torch.ops.jagged.jagged_to_padded_dense\n",
        "compiled_j2pd = torch.compile(j2pd)\n",
        "torch.testing.assert_close(\n",
        "    j2pd(inp, offsets, max_seq_len, pad_value),\n",
        "    compiled_j2pd(inp, offsets, max_seq_len, pad_value)\n",
        ")\n",
        "\n",
        "print(\"Eager runtime\")\n",
        "%timeit j2pd(inp, offsets, max_seq_len, pad_value)\n",
        "\n",
        "# Run once to warmup cache\n",
        "%timeit compiled_j2pd(inp, offsets, max_seq_len, pad_value)\n",
        "print(\"Compiled runtime\")\n",
        "%timeit compiled_j2pd(inp, offsets, max_seq_len, pad_value)"
      ],
      "metadata": {
        "colab": {
          "base_uri": "https://localhost:8080/"
        },
        "id": "G3SKgXEJ7-O3",
        "outputId": "7d561328-2fc9-49df-ae93-f563abdd5c82"
      },
      "execution_count": null,
      "outputs": [
        {
          "output_type": "stream",
          "name": "stderr",
          "text": [
            "Output code: \n",
            "# AOT ID: ['3_inference']\n",
            "from ctypes import c_void_p, c_long, c_int\n",
            "import torch\n",
            "import math\n",
            "import random\n",
            "import os\n",
            "import tempfile\n",
            "from math import inf, nan\n",
            "from torch._inductor.hooks import run_intermediate_hooks\n",
            "from torch._inductor.utils import maybe_profile\n",
            "from torch._inductor.codegen.memory_planning import _align as align\n",
            "from torch import device, empty_strided\n",
            "from torch._inductor.async_compile import AsyncCompile\n",
            "from torch._inductor.select_algorithm import extern_kernels\n",
            "from torch._inductor.codegen.multi_kernel import MultiKernelCall\n",
            "\n",
            "aten = torch.ops.aten\n",
            "inductor_ops = torch.ops.inductor\n",
            "_quantized = torch.ops._quantized\n",
            "assert_size_stride = torch._C._dynamo.guards.assert_size_stride\n",
            "empty_strided_cpu = torch._C._dynamo.guards._empty_strided_cpu\n",
            "empty_strided_cuda = torch._C._dynamo.guards._empty_strided_cuda\n",
            "empty_strided_xpu = torch._C._dynamo.guards._empty_strided_xpu\n",
            "reinterpret_tensor = torch._C._dynamo.guards._reinterpret_tensor\n",
            "alloc_from_pool = torch.ops.inductor._alloc_from_pool\n",
            "async_compile = AsyncCompile()\n",
            "\n",
            "\n",
            "cpp_fused_jagged_to_padded_dense_0 = async_compile.cpp_pybinding(['const int64_t*', 'const float*', 'float*'], '''\n",
            "#include \"/tmp/torchinductor_root/vu/cvuvp4i7roujum4xemrfwnb3t4c5t3r3mihr4b7iegh6tcqvdg43.h\"\n",
            "extern \"C\"  void kernel(const int64_t* in_ptr0,\n",
            "                       const float* in_ptr1,\n",
            "                       float* out_ptr0)\n",
            "{\n",
            "    {\n",
            "        #pragma GCC ivdep\n",
            "        for(int64_t x0=static_cast<int64_t>(0L); x0<static_cast<int64_t>(1023L); x0+=static_cast<int64_t>(1L))\n",
            "        {\n",
            "            for(int64_t x1=static_cast<int64_t>(0L); x1<static_cast<int64_t>(1024L); x1+=static_cast<int64_t>(8L))\n",
            "            {\n",
            "                auto tmp0 = in_ptr0[static_cast<int64_t>(x0)];\n",
            "                auto tmp9 = in_ptr0[static_cast<int64_t>(1L + x0)];\n",
            "                auto tmp1 = 523777L;\n",
            "                auto tmp2 = c10::convert<int64_t>(tmp1);\n",
            "                auto tmp3 = decltype(tmp0)(tmp0 + tmp2);\n",
            "                auto tmp4 = tmp0 < 0;\n",
            "                auto tmp5 = tmp4 ? tmp3 : tmp0;\n",
            "                auto tmp6 = tmp5;\n",
            "                auto tmp7 = c10::convert<int64_t>(tmp6);\n",
            "                TORCH_CHECK((0 <= tmp7) & (tmp7 < 523777L), \"index out of bounds: 0 <= tmp7 < 523777L\");\n",
            "                auto tmp10 = tmp5 + x1;\n",
            "                auto tmp11 = c10::convert<int64_t>(tmp10);\n",
            "                auto tmp12 = at::vec::VectorizedN<int64_t,2>::arange(tmp11, 1);\n",
            "                auto tmp13 = at::vec::VectorizedN<int64_t,2>(tmp9);\n",
            "                auto tmp14 = at::vec::VecMask<int64_t,2>(tmp12 < tmp13);\n",
            "                auto tmp15 = [&]\n",
            "                {\n",
            "                    auto tmp16 = tmp14.template cast<float,1>().template loadu<float,1>(in_ptr1 + static_cast<int64_t>(tmp5 + x1));\n",
            "                    return tmp16;\n",
            "                }\n",
            "                ;\n",
            "                auto tmp19 =\n",
            "                [&]\n",
            "                {\n",
            "                    if (tmp14.all_zero())\n",
            "                    {\n",
            "                        return at::vec::Vectorized<float>(static_cast<float>(0.0));\n",
            "                    }\n",
            "                    else\n",
            "                    {\n",
            "                        auto tmp17 = tmp15();\n",
            "                        auto tmp18 = at::vec::Vectorized<float>(static_cast<float>(0.0));\n",
            "                        return decltype(tmp17)::blendv(tmp18, tmp17, tmp14.template cast<float,1>());\n",
            "                    }\n",
            "                }\n",
            "                ()\n",
            "                ;\n",
            "                tmp19.store(out_ptr0 + static_cast<int64_t>(x1 + (1024L*x0)));\n",
            "            }\n",
            "        }\n",
            "    }\n",
            "}\n",
            "''')\n",
            "\n",
            "\n",
            "async_compile.wait(globals())\n",
            "del async_compile\n",
            "\n",
            "def call(args):\n",
            "    arg0_1, arg1_1 = args\n",
            "    args.clear()\n",
            "    assert_size_stride(arg0_1, (1024, ), (1, ))\n",
            "    assert_size_stride(arg1_1, (523776, ), (1, ))\n",
            "    buf0 = empty_strided_cpu((1023, 1024), (1024, 1), torch.float32)\n",
            "    cpp_fused_jagged_to_padded_dense_0(arg0_1, arg1_1, buf0)\n",
            "    del arg0_1\n",
            "    del arg1_1\n",
            "    return (buf0, )\n",
            "\n",
            "\n",
            "def benchmark_compiled_module(times=10, repeat=10):\n",
            "    from torch._dynamo.testing import rand_strided\n",
            "    from torch._inductor.utils import print_performance\n",
            "    arg0_1 = rand_strided((1024, ), (1, ), device='cpu', dtype=torch.int64)\n",
            "    arg1_1 = rand_strided((523776, ), (1, ), device='cpu', dtype=torch.float32)\n",
            "    fn = lambda: call([arg0_1, arg1_1])\n",
            "    return print_performance(fn, times=times, repeat=repeat)\n",
            "\n",
            "\n",
            "if __name__ == \"__main__\":\n",
            "    from torch._inductor.wrapper_benchmark import compiled_module_main\n",
            "    compiled_module_main('None', benchmark_compiled_module)\n",
            "\n",
            "Output code written to: /tmp/torchinductor_root/eh/ceho3hfndymoaqrv67g4hftmbo7frr7oh6esufimdbznczqdapu7.py\n"
          ]
        },
        {
          "output_type": "stream",
          "name": "stdout",
          "text": [
            "Eager runtime\n",
            "20.6 ms ± 569 µs per loop (mean ± std. dev. of 7 runs, 10 loops each)\n",
            "712 µs ± 146 µs per loop (mean ± std. dev. of 7 runs, 1000 loops each)\n",
            "Compiled runtime\n",
            "603 µs ± 8.01 µs per loop (mean ± std. dev. of 7 runs, 1000 loops each)\n"
          ]
        }
      ]
    },
    {
      "cell_type": "markdown",
      "source": [
        "# Graph Transforms\n",
        "Now, let's show how you might integrate a custom graph transformation."
      ],
      "metadata": {
        "id": "8EDAA1N_hoFx"
      }
    },
    {
      "cell_type": "code",
      "source": [
        "import torch._inductor.config as config"
      ],
      "metadata": {
        "id": "uQt73tqlhyCc"
      },
      "execution_count": null,
      "outputs": []
    },
    {
      "cell_type": "code",
      "source": [
        "def f(x):\n",
        "  x = torch.mm(x, x)\n",
        "  x = x ** 2\n",
        "  x = torch.cos(x)\n",
        "  return x"
      ],
      "metadata": {
        "id": "9ZzfErDeiB5F"
      },
      "execution_count": null,
      "outputs": []
    },
    {
      "cell_type": "code",
      "source": [
        "def custom_print_pass(fx_graph):\n",
        "  print(\"Custom pass run!\", fx_graph)\n",
        "  return fx_graph\n",
        "\n",
        "config.post_grad_custom_post_pass = custom_print_pass"
      ],
      "metadata": {
        "id": "1jLQ2sG2h4DF"
      },
      "execution_count": null,
      "outputs": []
    },
    {
      "cell_type": "code",
      "source": [
        "_ = torch.compile(f)(torch.randn(20, 20))\n",
        "torch._dynamo.reset()"
      ],
      "metadata": {
        "colab": {
          "base_uri": "https://localhost:8080/"
        },
        "id": "8dHjxfceh9ln",
        "outputId": "9451f79d-f0fa-45cd-8f46-c0e2cc3953f3"
      },
      "execution_count": null,
      "outputs": [
        {
          "output_type": "stream",
          "name": "stderr",
          "text": [
            "Output code: \n",
            "# AOT ID: ['4_inference']\n",
            "from ctypes import c_void_p, c_long, c_int\n",
            "import torch\n",
            "import math\n",
            "import random\n",
            "import os\n",
            "import tempfile\n",
            "from math import inf, nan\n",
            "from torch._inductor.hooks import run_intermediate_hooks\n",
            "from torch._inductor.utils import maybe_profile\n",
            "from torch._inductor.codegen.memory_planning import _align as align\n",
            "from torch import device, empty_strided\n",
            "from torch._inductor.async_compile import AsyncCompile\n",
            "from torch._inductor.select_algorithm import extern_kernels\n",
            "from torch._inductor.codegen.multi_kernel import MultiKernelCall\n",
            "\n",
            "aten = torch.ops.aten\n",
            "inductor_ops = torch.ops.inductor\n",
            "_quantized = torch.ops._quantized\n",
            "assert_size_stride = torch._C._dynamo.guards.assert_size_stride\n",
            "empty_strided_cpu = torch._C._dynamo.guards._empty_strided_cpu\n",
            "empty_strided_cuda = torch._C._dynamo.guards._empty_strided_cuda\n",
            "empty_strided_xpu = torch._C._dynamo.guards._empty_strided_xpu\n",
            "reinterpret_tensor = torch._C._dynamo.guards._reinterpret_tensor\n",
            "alloc_from_pool = torch.ops.inductor._alloc_from_pool\n",
            "async_compile = AsyncCompile()\n",
            "\n",
            "\n",
            "cpp_fused_cos_pow_0 = async_compile.cpp_pybinding(['float*'], '''\n",
            "#include \"/tmp/torchinductor_root/vu/cvuvp4i7roujum4xemrfwnb3t4c5t3r3mihr4b7iegh6tcqvdg43.h\"\n",
            "extern \"C\"  void kernel(float* in_out_ptr0)\n",
            "{\n",
            "    {\n",
            "        for(int64_t x0=static_cast<int64_t>(0L); x0<static_cast<int64_t>(400L); x0+=static_cast<int64_t>(8L))\n",
            "        {\n",
            "            auto tmp0 = at::vec::Vectorized<float>::loadu(in_out_ptr0 + static_cast<int64_t>(x0), static_cast<int64_t>(8));\n",
            "            auto tmp1 = tmp0 * tmp0;\n",
            "            auto tmp2 = tmp1.cos();\n",
            "            tmp2.store(in_out_ptr0 + static_cast<int64_t>(x0));\n",
            "        }\n",
            "    }\n",
            "}\n",
            "''')\n",
            "\n",
            "\n",
            "async_compile.wait(globals())\n",
            "del async_compile\n",
            "\n",
            "def call(args):\n",
            "    arg0_1, = args\n",
            "    args.clear()\n",
            "    assert_size_stride(arg0_1, (20, 20), (20, 1))\n",
            "    buf0 = empty_strided_cpu((20, 20), (20, 1), torch.float32)\n",
            "    # Topologically Sorted Source Nodes: [x], Original ATen: [aten.mm]\n",
            "    extern_kernels.mm(arg0_1, arg0_1, out=buf0)\n",
            "    del arg0_1\n",
            "    buf1 = buf0; del buf0  # reuse\n",
            "    cpp_fused_cos_pow_0(buf1)\n",
            "    return (buf1, )\n",
            "\n",
            "\n",
            "def benchmark_compiled_module(times=10, repeat=10):\n",
            "    from torch._dynamo.testing import rand_strided\n",
            "    from torch._inductor.utils import print_performance\n",
            "    arg0_1 = rand_strided((20, 20), (20, 1), device='cpu', dtype=torch.float32)\n",
            "    fn = lambda: call([arg0_1])\n",
            "    return print_performance(fn, times=times, repeat=repeat)\n",
            "\n",
            "\n",
            "if __name__ == \"__main__\":\n",
            "    from torch._inductor.wrapper_benchmark import compiled_module_main\n",
            "    compiled_module_main('None', benchmark_compiled_module)\n",
            "\n"
          ]
        },
        {
          "output_type": "stream",
          "name": "stdout",
          "text": [
            "Custom pass run! graph():\n",
            "    %arg0_1 : [num_users=1] = placeholder[target=arg0_1]\n",
            "    %mm : [num_users=1] = call_function[target=torch.ops.aten.mm.default](args = (%arg0_1, %arg0_1), kwargs = {})\n",
            "    %pow_1 : [num_users=1] = call_function[target=torch.ops.aten.pow.Tensor_Scalar](args = (%mm, 2), kwargs = {})\n",
            "    %cos : [num_users=1] = call_function[target=torch.ops.aten.cos.default](args = (%pow_1,), kwargs = {})\n",
            "    return (cos,)\n"
          ]
        },
        {
          "output_type": "stream",
          "name": "stderr",
          "text": [
            "Output code written to: /tmp/torchinductor_root/aa/caaslpaaqiwxztwtikyqzbx3xjjjadiex7ql6u4mfwpy4a5pltgt.py\n"
          ]
        }
      ]
    },
    {
      "cell_type": "code",
      "source": [
        "def strength_reduce_pow(fx_graph):\n",
        "  for node in fx_graph.nodes:\n",
        "    if node.target == torch.ops.aten.pow.Tensor_Scalar and node.args[1] == 2:\n",
        "      # Replace pow(x, 2) with x * x\n",
        "      node.target = torch.ops.aten.mul.Scalar\n",
        "      node.args = (node.args[0], node.args[0])\n",
        "  print(\"transformed graph!\")\n",
        "  print(fx_graph)\n",
        "  return fx_graph"
      ],
      "metadata": {
        "id": "GBj-Va10jC9z"
      },
      "execution_count": null,
      "outputs": []
    },
    {
      "cell_type": "code",
      "source": [
        "config.post_grad_custom_post_pass = strength_reduce_pow"
      ],
      "metadata": {
        "id": "xQeodQzpmgJN"
      },
      "execution_count": null,
      "outputs": []
    },
    {
      "cell_type": "code",
      "source": [
        "_ = torch.compile(f)(torch.randn(20, 20))\n",
        "torch._dynamo.reset()"
      ],
      "metadata": {
        "id": "2siPn4w3jm-M",
        "outputId": "469beb0f-1840-4dca-f057-9835cde81766",
        "colab": {
          "base_uri": "https://localhost:8080/",
          "height": 807
        }
      },
      "execution_count": null,
      "outputs": [
        {
          "output_type": "stream",
          "name": "stdout",
          "text": [
            "transformed graph!\n",
            "graph():\n",
            "    %arg0_1 : [num_users=1] = placeholder[target=arg0_1]\n",
            "    %mm : [num_users=1] = call_function[target=torch.ops.aten.mm.default](args = (%arg0_1, %arg0_1), kwargs = {})\n",
            "    %pow_1 : [num_users=1] = call_function[target=torch.ops.aten.mul.Scalar](args = (%mm, %mm), kwargs = {})\n",
            "    %cos : [num_users=1] = call_function[target=torch.ops.aten.cos.default](args = (%pow_1,), kwargs = {})\n",
            "    return (cos,)\n"
          ]
        },
        {
          "output_type": "error",
          "ename": "BackendCompilerFailed",
          "evalue": "backend='inductor' raised:\nRuntimeError: aten::mul() Expected a value of type 'number' for argument 'other' but instead found type 'FakeTensor'.\nPosition: 1\nValue: FakeTensor(..., size=(20, 20))\nDeclaration: aten::mul.Scalar(Tensor self, Scalar other) -> Tensor\nCast error details: Cannot cast FakeTensor(..., size=(20, 20)) to number\n\nSet TORCH_LOGS=\"+dynamo\" and TORCHDYNAMO_VERBOSE=1 for more information\n\n\nYou can suppress this exception and fall back to eager by setting:\n    import torch._dynamo\n    torch._dynamo.config.suppress_errors = True\n",
          "traceback": [
            "\u001b[0;31m---------------------------------------------------------------------------\u001b[0m",
            "\u001b[0;31mRuntimeError\u001b[0m                              Traceback (most recent call last)",
            "\u001b[0;32m/usr/local/lib/python3.10/dist-packages/torch/_dynamo/output_graph.py\u001b[0m in \u001b[0;36m_call_user_compiler\u001b[0;34m(self, gm)\u001b[0m\n\u001b[1;32m   1445\u001b[0m                 \u001b[0mcompiler_fn\u001b[0m \u001b[0;34m=\u001b[0m \u001b[0mWrapperBackend\u001b[0m\u001b[0;34m(\u001b[0m\u001b[0mcompiler_fn\u001b[0m\u001b[0;34m)\u001b[0m\u001b[0;34m\u001b[0m\u001b[0;34m\u001b[0m\u001b[0m\n\u001b[0;32m-> 1446\u001b[0;31m             \u001b[0mcompiled_fn\u001b[0m \u001b[0;34m=\u001b[0m \u001b[0mcompiler_fn\u001b[0m\u001b[0;34m(\u001b[0m\u001b[0mgm\u001b[0m\u001b[0;34m,\u001b[0m \u001b[0mself\u001b[0m\u001b[0;34m.\u001b[0m\u001b[0mexample_inputs\u001b[0m\u001b[0;34m(\u001b[0m\u001b[0;34m)\u001b[0m\u001b[0;34m)\u001b[0m\u001b[0;34m\u001b[0m\u001b[0;34m\u001b[0m\u001b[0m\n\u001b[0m\u001b[1;32m   1447\u001b[0m             \u001b[0m_step_logger\u001b[0m\u001b[0;34m(\u001b[0m\u001b[0;34m)\u001b[0m\u001b[0;34m(\u001b[0m\u001b[0mlogging\u001b[0m\u001b[0;34m.\u001b[0m\u001b[0mINFO\u001b[0m\u001b[0;34m,\u001b[0m \u001b[0;34mf\"done compiler function {name}\"\u001b[0m\u001b[0;34m)\u001b[0m\u001b[0;34m\u001b[0m\u001b[0;34m\u001b[0m\u001b[0m\n",
            "\u001b[0;32m/usr/local/lib/python3.10/dist-packages/torch/_dynamo/repro/after_dynamo.py\u001b[0m in \u001b[0;36m__call__\u001b[0;34m(self, gm, example_inputs, **kwargs)\u001b[0m\n\u001b[1;32m    128\u001b[0m         \u001b[0;32melse\u001b[0m\u001b[0;34m:\u001b[0m\u001b[0;34m\u001b[0m\u001b[0;34m\u001b[0m\u001b[0m\n\u001b[0;32m--> 129\u001b[0;31m             \u001b[0mcompiled_gm\u001b[0m \u001b[0;34m=\u001b[0m \u001b[0mcompiler_fn\u001b[0m\u001b[0;34m(\u001b[0m\u001b[0mgm\u001b[0m\u001b[0;34m,\u001b[0m \u001b[0mexample_inputs\u001b[0m\u001b[0;34m)\u001b[0m\u001b[0;34m\u001b[0m\u001b[0;34m\u001b[0m\u001b[0m\n\u001b[0m\u001b[1;32m    130\u001b[0m \u001b[0;34m\u001b[0m\u001b[0m\n",
            "\u001b[0;32m/usr/local/lib/python3.10/dist-packages/torch/__init__.py\u001b[0m in \u001b[0;36m__call__\u001b[0;34m(self, model_, inputs_)\u001b[0m\n\u001b[1;32m   2233\u001b[0m \u001b[0;34m\u001b[0m\u001b[0m\n\u001b[0;32m-> 2234\u001b[0;31m         \u001b[0;32mreturn\u001b[0m \u001b[0mcompile_fx\u001b[0m\u001b[0;34m(\u001b[0m\u001b[0mmodel_\u001b[0m\u001b[0;34m,\u001b[0m \u001b[0minputs_\u001b[0m\u001b[0;34m,\u001b[0m \u001b[0mconfig_patches\u001b[0m\u001b[0;34m=\u001b[0m\u001b[0mself\u001b[0m\u001b[0;34m.\u001b[0m\u001b[0mconfig\u001b[0m\u001b[0;34m)\u001b[0m\u001b[0;34m\u001b[0m\u001b[0;34m\u001b[0m\u001b[0m\n\u001b[0m\u001b[1;32m   2235\u001b[0m \u001b[0;34m\u001b[0m\u001b[0m\n",
            "\u001b[0;32m/usr/local/lib/python3.10/dist-packages/torch/_inductor/compile_fx.py\u001b[0m in \u001b[0;36mcompile_fx\u001b[0;34m(model_, example_inputs_, inner_compile, config_patches, decompositions)\u001b[0m\n\u001b[1;32m   1520\u001b[0m         ):\n\u001b[0;32m-> 1521\u001b[0;31m             return aot_autograd(\n\u001b[0m\u001b[1;32m   1522\u001b[0m                 \u001b[0mfw_compiler\u001b[0m\u001b[0;34m=\u001b[0m\u001b[0mfw_compiler\u001b[0m\u001b[0;34m,\u001b[0m\u001b[0;34m\u001b[0m\u001b[0;34m\u001b[0m\u001b[0m\n",
            "\u001b[0;32m/usr/local/lib/python3.10/dist-packages/torch/_dynamo/backends/common.py\u001b[0m in \u001b[0;36m__call__\u001b[0;34m(self, gm, example_inputs, **kwargs)\u001b[0m\n\u001b[1;32m     71\u001b[0m             \u001b[0;32mwith\u001b[0m \u001b[0menable_aot_logging\u001b[0m\u001b[0;34m(\u001b[0m\u001b[0;34m)\u001b[0m\u001b[0;34m,\u001b[0m \u001b[0mpatch_config\u001b[0m\u001b[0;34m:\u001b[0m\u001b[0;34m\u001b[0m\u001b[0;34m\u001b[0m\u001b[0m\n\u001b[0;32m---> 72\u001b[0;31m                 \u001b[0mcg\u001b[0m \u001b[0;34m=\u001b[0m \u001b[0maot_module_simplified\u001b[0m\u001b[0;34m(\u001b[0m\u001b[0mgm\u001b[0m\u001b[0;34m,\u001b[0m \u001b[0mexample_inputs\u001b[0m\u001b[0;34m,\u001b[0m \u001b[0;34m**\u001b[0m\u001b[0mself\u001b[0m\u001b[0;34m.\u001b[0m\u001b[0mkwargs\u001b[0m\u001b[0;34m)\u001b[0m\u001b[0;34m\u001b[0m\u001b[0;34m\u001b[0m\u001b[0m\n\u001b[0m\u001b[1;32m     73\u001b[0m                 \u001b[0mcounters\u001b[0m\u001b[0;34m[\u001b[0m\u001b[0;34m\"aot_autograd\"\u001b[0m\u001b[0;34m]\u001b[0m\u001b[0;34m[\u001b[0m\u001b[0;34m\"ok\"\u001b[0m\u001b[0;34m]\u001b[0m \u001b[0;34m+=\u001b[0m \u001b[0;36m1\u001b[0m\u001b[0;34m\u001b[0m\u001b[0;34m\u001b[0m\u001b[0m\n",
            "\u001b[0;32m/usr/local/lib/python3.10/dist-packages/torch/_functorch/aot_autograd.py\u001b[0m in \u001b[0;36maot_module_simplified\u001b[0;34m(mod, args, fw_compiler, bw_compiler, partition_fn, decompositions, keep_inference_input_mutations, inference_compiler, cudagraphs)\u001b[0m\n\u001b[1;32m   1070\u001b[0m     \u001b[0;32melse\u001b[0m\u001b[0;34m:\u001b[0m\u001b[0;34m\u001b[0m\u001b[0;34m\u001b[0m\u001b[0m\n\u001b[0;32m-> 1071\u001b[0;31m         \u001b[0mcompiled_fn\u001b[0m \u001b[0;34m=\u001b[0m \u001b[0mdispatch_and_compile\u001b[0m\u001b[0;34m(\u001b[0m\u001b[0;34m)\u001b[0m\u001b[0;34m\u001b[0m\u001b[0;34m\u001b[0m\u001b[0m\n\u001b[0m\u001b[1;32m   1072\u001b[0m \u001b[0;34m\u001b[0m\u001b[0m\n",
            "\u001b[0;32m/usr/local/lib/python3.10/dist-packages/torch/_functorch/aot_autograd.py\u001b[0m in \u001b[0;36mdispatch_and_compile\u001b[0;34m()\u001b[0m\n\u001b[1;32m   1055\u001b[0m         \u001b[0;32mwith\u001b[0m \u001b[0mcompiled_autograd\u001b[0m\u001b[0;34m.\u001b[0m\u001b[0mdisable\u001b[0m\u001b[0;34m(\u001b[0m\u001b[0;34m)\u001b[0m\u001b[0;34m:\u001b[0m\u001b[0;34m\u001b[0m\u001b[0;34m\u001b[0m\u001b[0m\n\u001b[0;32m-> 1056\u001b[0;31m             compiled_fn, _ = create_aot_dispatcher_function(\n\u001b[0m\u001b[1;32m   1057\u001b[0m                 \u001b[0mfunctional_call\u001b[0m\u001b[0;34m,\u001b[0m\u001b[0;34m\u001b[0m\u001b[0;34m\u001b[0m\u001b[0m\n",
            "\u001b[0;32m/usr/local/lib/python3.10/dist-packages/torch/_functorch/aot_autograd.py\u001b[0m in \u001b[0;36mcreate_aot_dispatcher_function\u001b[0;34m(flat_fn, fake_flat_args, aot_config, fake_mode, shape_env)\u001b[0m\n\u001b[1;32m    521\u001b[0m     \u001b[0;32mwith\u001b[0m \u001b[0mdynamo_timed\u001b[0m\u001b[0;34m(\u001b[0m\u001b[0;34m\"create_aot_dispatcher_function\"\u001b[0m\u001b[0;34m)\u001b[0m\u001b[0;34m:\u001b[0m\u001b[0;34m\u001b[0m\u001b[0;34m\u001b[0m\u001b[0m\n\u001b[0;32m--> 522\u001b[0;31m         return _create_aot_dispatcher_function(\n\u001b[0m\u001b[1;32m    523\u001b[0m             \u001b[0mflat_fn\u001b[0m\u001b[0;34m,\u001b[0m \u001b[0mfake_flat_args\u001b[0m\u001b[0;34m,\u001b[0m \u001b[0maot_config\u001b[0m\u001b[0;34m,\u001b[0m \u001b[0mfake_mode\u001b[0m\u001b[0;34m,\u001b[0m \u001b[0mshape_env\u001b[0m\u001b[0;34m\u001b[0m\u001b[0;34m\u001b[0m\u001b[0m\n",
            "\u001b[0;32m/usr/local/lib/python3.10/dist-packages/torch/_functorch/aot_autograd.py\u001b[0m in \u001b[0;36m_create_aot_dispatcher_function\u001b[0;34m(flat_fn, fake_flat_args, aot_config, fake_mode, shape_env)\u001b[0m\n\u001b[1;32m    758\u001b[0m \u001b[0;34m\u001b[0m\u001b[0m\n\u001b[0;32m--> 759\u001b[0;31m         compiled_fn, fw_metadata = compiler_fn(\n\u001b[0m\u001b[1;32m    760\u001b[0m             \u001b[0mflat_fn\u001b[0m\u001b[0;34m,\u001b[0m\u001b[0;34m\u001b[0m\u001b[0;34m\u001b[0m\u001b[0m\n",
            "\u001b[0;32m/usr/local/lib/python3.10/dist-packages/torch/_functorch/_aot_autograd/jit_compile_runtime_wrappers.py\u001b[0m in \u001b[0;36maot_dispatch_base\u001b[0;34m(flat_fn, flat_args, aot_config, fw_metadata)\u001b[0m\n\u001b[1;32m    178\u001b[0m         \u001b[0;32mwith\u001b[0m \u001b[0mTracingContext\u001b[0m\u001b[0;34m.\u001b[0m\u001b[0mreport_output_strides\u001b[0m\u001b[0;34m(\u001b[0m\u001b[0;34m)\u001b[0m \u001b[0;32mas\u001b[0m \u001b[0mfwd_output_strides\u001b[0m\u001b[0;34m:\u001b[0m\u001b[0;34m\u001b[0m\u001b[0;34m\u001b[0m\u001b[0m\n\u001b[0;32m--> 179\u001b[0;31m             \u001b[0mcompiled_fw\u001b[0m \u001b[0;34m=\u001b[0m \u001b[0mcompiler\u001b[0m\u001b[0;34m(\u001b[0m\u001b[0mfw_module\u001b[0m\u001b[0;34m,\u001b[0m \u001b[0mupdated_flat_args\u001b[0m\u001b[0;34m)\u001b[0m\u001b[0;34m\u001b[0m\u001b[0;34m\u001b[0m\u001b[0m\n\u001b[0m\u001b[1;32m    180\u001b[0m \u001b[0;34m\u001b[0m\u001b[0m\n",
            "\u001b[0;32m/usr/local/lib/python3.10/dist-packages/torch/_inductor/compile_fx.py\u001b[0m in \u001b[0;36mfw_compiler_base\u001b[0;34m(model, example_inputs, is_inference)\u001b[0m\n\u001b[1;32m   1349\u001b[0m             \u001b[0;32mwith\u001b[0m \u001b[0mdynamo_utils\u001b[0m\u001b[0;34m.\u001b[0m\u001b[0mdynamo_timed\u001b[0m\u001b[0;34m(\u001b[0m\u001b[0;34m\"compile_fx.<locals>.fw_compiler_base\"\u001b[0m\u001b[0;34m)\u001b[0m\u001b[0;34m:\u001b[0m\u001b[0;34m\u001b[0m\u001b[0;34m\u001b[0m\u001b[0m\n\u001b[0;32m-> 1350\u001b[0;31m                 \u001b[0;32mreturn\u001b[0m \u001b[0m_fw_compiler_base\u001b[0m\u001b[0;34m(\u001b[0m\u001b[0mmodel\u001b[0m\u001b[0;34m,\u001b[0m \u001b[0mexample_inputs\u001b[0m\u001b[0;34m,\u001b[0m \u001b[0mis_inference\u001b[0m\u001b[0;34m)\u001b[0m\u001b[0;34m\u001b[0m\u001b[0;34m\u001b[0m\u001b[0m\n\u001b[0m\u001b[1;32m   1351\u001b[0m \u001b[0;34m\u001b[0m\u001b[0m\n",
            "\u001b[0;32m/usr/local/lib/python3.10/dist-packages/torch/_inductor/compile_fx.py\u001b[0m in \u001b[0;36m_fw_compiler_base\u001b[0;34m(model, example_inputs, is_inference)\u001b[0m\n\u001b[1;32m   1420\u001b[0m \u001b[0;34m\u001b[0m\u001b[0m\n\u001b[0;32m-> 1421\u001b[0;31m             return inner_compile(\n\u001b[0m\u001b[1;32m   1422\u001b[0m                 \u001b[0mmodel\u001b[0m\u001b[0;34m,\u001b[0m\u001b[0;34m\u001b[0m\u001b[0;34m\u001b[0m\u001b[0m\n",
            "\u001b[0;32m/usr/local/lib/python3.10/dist-packages/torch/_inductor/compile_fx.py\u001b[0m in \u001b[0;36mcompile_fx_inner\u001b[0;34m(*args, **kwargs)\u001b[0m\n\u001b[1;32m    474\u001b[0m \u001b[0;34m\u001b[0m\u001b[0m\n\u001b[0;32m--> 475\u001b[0;31m         return wrap_compiler_debug(_compile_fx_inner, compiler_name=\"inductor\")(\n\u001b[0m\u001b[1;32m    476\u001b[0m             \u001b[0;34m*\u001b[0m\u001b[0margs\u001b[0m\u001b[0;34m,\u001b[0m \u001b[0;34m**\u001b[0m\u001b[0mkwargs\u001b[0m\u001b[0;34m\u001b[0m\u001b[0;34m\u001b[0m\u001b[0m\n",
            "\u001b[0;32m/usr/local/lib/python3.10/dist-packages/torch/_dynamo/repro/after_aot.py\u001b[0m in \u001b[0;36mdebug_wrapper\u001b[0;34m(gm, example_inputs, **kwargs)\u001b[0m\n\u001b[1;32m     84\u001b[0m             \u001b[0;31m# with fake inputs\u001b[0m\u001b[0;34m\u001b[0m\u001b[0;34m\u001b[0m\u001b[0m\n\u001b[0;32m---> 85\u001b[0;31m             \u001b[0minner_compiled_fn\u001b[0m \u001b[0;34m=\u001b[0m \u001b[0mcompiler_fn\u001b[0m\u001b[0;34m(\u001b[0m\u001b[0mgm\u001b[0m\u001b[0;34m,\u001b[0m \u001b[0mexample_inputs\u001b[0m\u001b[0;34m)\u001b[0m\u001b[0;34m\u001b[0m\u001b[0;34m\u001b[0m\u001b[0m\n\u001b[0m\u001b[1;32m     86\u001b[0m         \u001b[0;32mexcept\u001b[0m \u001b[0mException\u001b[0m \u001b[0;32mas\u001b[0m \u001b[0me\u001b[0m\u001b[0;34m:\u001b[0m\u001b[0;34m\u001b[0m\u001b[0;34m\u001b[0m\u001b[0m\n",
            "\u001b[0;32m/usr/local/lib/python3.10/dist-packages/torch/_inductor/compile_fx.py\u001b[0m in \u001b[0;36m_compile_fx_inner\u001b[0;34m(gm, example_inputs, cudagraphs, static_input_idxs, is_backward, graph_id, cpp_wrapper, aot_mode, is_inference, boxed_forward_device_index, user_visible_outputs, layout_opt, extern_node_serializer)\u001b[0m\n\u001b[1;32m    660\u001b[0m \u001b[0;34m\u001b[0m\u001b[0m\n\u001b[0;32m--> 661\u001b[0;31m             compiled_graph = FxGraphCache.load(\n\u001b[0m\u001b[1;32m    662\u001b[0m                 \u001b[0mcodegen_and_compile\u001b[0m\u001b[0;34m,\u001b[0m\u001b[0;34m\u001b[0m\u001b[0;34m\u001b[0m\u001b[0m\n",
            "\u001b[0;32m/usr/local/lib/python3.10/dist-packages/torch/_inductor/codecache.py\u001b[0m in \u001b[0;36mload\u001b[0;34m(compile_fx_fn, gm, example_inputs, fx_kwargs, inputs_to_check, local, remote)\u001b[0m\n\u001b[1;32m   1333\u001b[0m                 \u001b[0mcache_event_time\u001b[0m \u001b[0;34m=\u001b[0m \u001b[0mstart_time\u001b[0m\u001b[0;34m\u001b[0m\u001b[0;34m\u001b[0m\u001b[0m\n\u001b[0;32m-> 1334\u001b[0;31m                 compiled_graph = compile_fx_fn(\n\u001b[0m\u001b[1;32m   1335\u001b[0m                     \u001b[0mgm\u001b[0m\u001b[0;34m,\u001b[0m \u001b[0mexample_inputs\u001b[0m\u001b[0;34m,\u001b[0m \u001b[0minputs_to_check\u001b[0m\u001b[0;34m,\u001b[0m \u001b[0mfx_kwargs\u001b[0m\u001b[0;34m\u001b[0m\u001b[0;34m\u001b[0m\u001b[0m\n",
            "\u001b[0;32m/usr/local/lib/python3.10/dist-packages/torch/_inductor/compile_fx.py\u001b[0m in \u001b[0;36mcodegen_and_compile\u001b[0;34m(gm, example_inputs, inputs_to_check, fx_kwargs)\u001b[0m\n\u001b[1;32m    569\u001b[0m         \"\"\"\n\u001b[0;32m--> 570\u001b[0;31m         \u001b[0mcompiled_graph\u001b[0m \u001b[0;34m=\u001b[0m \u001b[0mfx_codegen_and_compile\u001b[0m\u001b[0;34m(\u001b[0m\u001b[0mgm\u001b[0m\u001b[0;34m,\u001b[0m \u001b[0mexample_inputs\u001b[0m\u001b[0;34m,\u001b[0m \u001b[0;34m**\u001b[0m\u001b[0mfx_kwargs\u001b[0m\u001b[0;34m)\u001b[0m\u001b[0;34m\u001b[0m\u001b[0;34m\u001b[0m\u001b[0m\n\u001b[0m\u001b[1;32m    571\u001b[0m         \u001b[0;32mif\u001b[0m \u001b[0misinstance\u001b[0m\u001b[0;34m(\u001b[0m\u001b[0mcompiled_graph\u001b[0m\u001b[0;34m,\u001b[0m \u001b[0mstr\u001b[0m\u001b[0;34m)\u001b[0m\u001b[0;34m:\u001b[0m\u001b[0;34m\u001b[0m\u001b[0;34m\u001b[0m\u001b[0m\n",
            "\u001b[0;32m/usr/local/lib/python3.10/dist-packages/torch/_inductor/compile_fx.py\u001b[0m in \u001b[0;36mfx_codegen_and_compile\u001b[0;34m(gm, example_inputs, cudagraphs, static_input_idxs, is_backward, graph_id, cpp_wrapper, aot_mode, is_inference, user_visible_outputs, layout_opt, extern_node_serializer)\u001b[0m\n\u001b[1;32m    788\u001b[0m             \u001b[0;31m# has some issues with memory in training\u001b[0m\u001b[0;34m\u001b[0m\u001b[0;34m\u001b[0m\u001b[0m\n\u001b[0;32m--> 789\u001b[0;31m             \u001b[0m_recursive_post_grad_passes\u001b[0m\u001b[0;34m(\u001b[0m\u001b[0mgm\u001b[0m\u001b[0;34m,\u001b[0m \u001b[0mis_inference\u001b[0m\u001b[0;34m=\u001b[0m\u001b[0mis_inference\u001b[0m\u001b[0;34m)\u001b[0m\u001b[0;34m\u001b[0m\u001b[0;34m\u001b[0m\u001b[0m\n\u001b[0m\u001b[1;32m    790\u001b[0m             \u001b[0mV\u001b[0m\u001b[0;34m.\u001b[0m\u001b[0mdebug\u001b[0m\u001b[0;34m.\u001b[0m\u001b[0mfx_graph_transformed\u001b[0m\u001b[0;34m(\u001b[0m\u001b[0mgm\u001b[0m\u001b[0;34m,\u001b[0m \u001b[0mexample_inputs\u001b[0m\u001b[0;34m)\u001b[0m\u001b[0;34m\u001b[0m\u001b[0;34m\u001b[0m\u001b[0m\n",
            "\u001b[0;32m/usr/local/lib/python3.10/dist-packages/torch/_inductor/compile_fx.py\u001b[0m in \u001b[0;36m_recursive_post_grad_passes\u001b[0;34m(gm, is_inference)\u001b[0m\n\u001b[1;32m    287\u001b[0m         \u001b[0m_recursive_post_grad_passes\u001b[0m\u001b[0;34m(\u001b[0m\u001b[0msubgraph\u001b[0m\u001b[0;34m,\u001b[0m \u001b[0mis_inference\u001b[0m\u001b[0;34m)\u001b[0m\u001b[0;34m\u001b[0m\u001b[0;34m\u001b[0m\u001b[0m\n\u001b[0;32m--> 288\u001b[0;31m     \u001b[0mpost_grad_passes\u001b[0m\u001b[0;34m(\u001b[0m\u001b[0mgm\u001b[0m\u001b[0;34m,\u001b[0m \u001b[0mis_inference\u001b[0m\u001b[0;34m)\u001b[0m\u001b[0;34m\u001b[0m\u001b[0;34m\u001b[0m\u001b[0m\n\u001b[0m\u001b[1;32m    289\u001b[0m \u001b[0;34m\u001b[0m\u001b[0m\n",
            "\u001b[0;32m/usr/local/lib/python3.10/dist-packages/torch/_inductor/fx_passes/post_grad.py\u001b[0m in \u001b[0;36mpost_grad_passes\u001b[0;34m(gm, is_inference)\u001b[0m\n\u001b[1;32m    136\u001b[0m \u001b[0;34m\u001b[0m\u001b[0m\n\u001b[0;32m--> 137\u001b[0;31m     \u001b[0mfake_tensor_updater\u001b[0m\u001b[0;34m.\u001b[0m\u001b[0mincremental_update\u001b[0m\u001b[0;34m(\u001b[0m\u001b[0;34m)\u001b[0m\u001b[0;34m\u001b[0m\u001b[0;34m\u001b[0m\u001b[0m\n\u001b[0m\u001b[1;32m    138\u001b[0m \u001b[0;34m\u001b[0m\u001b[0m\n",
            "\u001b[0;32m/usr/local/lib/python3.10/dist-packages/torch/_inductor/fx_utils.py\u001b[0m in \u001b[0;36mincremental_update\u001b[0;34m(self)\u001b[0m\n\u001b[1;32m    165\u001b[0m             \u001b[0;32mwith\u001b[0m \u001b[0mV\u001b[0m\u001b[0;34m.\u001b[0m\u001b[0mfake_mode\u001b[0m\u001b[0;34m:\u001b[0m\u001b[0;34m\u001b[0m\u001b[0;34m\u001b[0m\u001b[0m\n\u001b[0;32m--> 166\u001b[0;31m                 \u001b[0mnew_fake_tensor\u001b[0m \u001b[0;34m=\u001b[0m \u001b[0mnode\u001b[0m\u001b[0;34m.\u001b[0m\u001b[0mtarget\u001b[0m\u001b[0;34m(\u001b[0m\u001b[0;34m*\u001b[0m\u001b[0margs\u001b[0m\u001b[0;34m,\u001b[0m \u001b[0;34m**\u001b[0m\u001b[0mkwargs\u001b[0m\u001b[0;34m)\u001b[0m\u001b[0;34m\u001b[0m\u001b[0;34m\u001b[0m\u001b[0m\n\u001b[0m\u001b[1;32m    167\u001b[0m             if \"val\" in node.meta and is_fake_tensor_same(\n",
            "\u001b[0;32m/usr/local/lib/python3.10/dist-packages/torch/_ops.py\u001b[0m in \u001b[0;36m__call__\u001b[0;34m(self, *args, **kwargs)\u001b[0m\n\u001b[1;32m    715\u001b[0m     \u001b[0;32mdef\u001b[0m \u001b[0m__call__\u001b[0m\u001b[0;34m(\u001b[0m\u001b[0mself\u001b[0m\u001b[0;34m,\u001b[0m \u001b[0;34m/\u001b[0m\u001b[0;34m,\u001b[0m \u001b[0;34m*\u001b[0m\u001b[0margs\u001b[0m\u001b[0;34m,\u001b[0m \u001b[0;34m**\u001b[0m\u001b[0mkwargs\u001b[0m\u001b[0;34m)\u001b[0m\u001b[0;34m:\u001b[0m\u001b[0;34m\u001b[0m\u001b[0;34m\u001b[0m\u001b[0m\n\u001b[0;32m--> 716\u001b[0;31m         \u001b[0;32mreturn\u001b[0m \u001b[0mself\u001b[0m\u001b[0;34m.\u001b[0m\u001b[0m_op\u001b[0m\u001b[0;34m(\u001b[0m\u001b[0;34m*\u001b[0m\u001b[0margs\u001b[0m\u001b[0;34m,\u001b[0m \u001b[0;34m**\u001b[0m\u001b[0mkwargs\u001b[0m\u001b[0;34m)\u001b[0m\u001b[0;34m\u001b[0m\u001b[0;34m\u001b[0m\u001b[0m\n\u001b[0m\u001b[1;32m    717\u001b[0m \u001b[0;34m\u001b[0m\u001b[0m\n",
            "\u001b[0;31mRuntimeError\u001b[0m: aten::mul() Expected a value of type 'number' for argument 'other' but instead found type 'FakeTensor'.\nPosition: 1\nValue: FakeTensor(..., size=(20, 20))\nDeclaration: aten::mul.Scalar(Tensor self, Scalar other) -> Tensor\nCast error details: Cannot cast FakeTensor(..., size=(20, 20)) to number",
            "\nThe above exception was the direct cause of the following exception:\n",
            "\u001b[0;31mBackendCompilerFailed\u001b[0m                     Traceback (most recent call last)",
            "\u001b[0;32m<ipython-input-19-8350b614b626>\u001b[0m in \u001b[0;36m<cell line: 1>\u001b[0;34m()\u001b[0m\n\u001b[0;32m----> 1\u001b[0;31m \u001b[0m_\u001b[0m \u001b[0;34m=\u001b[0m \u001b[0mtorch\u001b[0m\u001b[0;34m.\u001b[0m\u001b[0mcompile\u001b[0m\u001b[0;34m(\u001b[0m\u001b[0mf\u001b[0m\u001b[0;34m)\u001b[0m\u001b[0;34m(\u001b[0m\u001b[0mtorch\u001b[0m\u001b[0;34m.\u001b[0m\u001b[0mrandn\u001b[0m\u001b[0;34m(\u001b[0m\u001b[0;36m20\u001b[0m\u001b[0;34m,\u001b[0m \u001b[0;36m20\u001b[0m\u001b[0;34m)\u001b[0m\u001b[0;34m)\u001b[0m\u001b[0;34m\u001b[0m\u001b[0;34m\u001b[0m\u001b[0m\n\u001b[0m\u001b[1;32m      2\u001b[0m \u001b[0mtorch\u001b[0m\u001b[0;34m.\u001b[0m\u001b[0m_dynamo\u001b[0m\u001b[0;34m.\u001b[0m\u001b[0mreset\u001b[0m\u001b[0;34m(\u001b[0m\u001b[0;34m)\u001b[0m\u001b[0;34m\u001b[0m\u001b[0;34m\u001b[0m\u001b[0m\n",
            "\u001b[0;32m/usr/local/lib/python3.10/dist-packages/torch/_dynamo/eval_frame.py\u001b[0m in \u001b[0;36m_fn\u001b[0;34m(*args, **kwargs)\u001b[0m\n\u001b[1;32m    463\u001b[0m \u001b[0;34m\u001b[0m\u001b[0m\n\u001b[1;32m    464\u001b[0m             \u001b[0;32mtry\u001b[0m\u001b[0;34m:\u001b[0m\u001b[0;34m\u001b[0m\u001b[0;34m\u001b[0m\u001b[0m\n\u001b[0;32m--> 465\u001b[0;31m                 \u001b[0;32mreturn\u001b[0m \u001b[0mfn\u001b[0m\u001b[0;34m(\u001b[0m\u001b[0;34m*\u001b[0m\u001b[0margs\u001b[0m\u001b[0;34m,\u001b[0m \u001b[0;34m**\u001b[0m\u001b[0mkwargs\u001b[0m\u001b[0;34m)\u001b[0m\u001b[0;34m\u001b[0m\u001b[0;34m\u001b[0m\u001b[0m\n\u001b[0m\u001b[1;32m    466\u001b[0m             \u001b[0;32mfinally\u001b[0m\u001b[0;34m:\u001b[0m\u001b[0;34m\u001b[0m\u001b[0;34m\u001b[0m\u001b[0m\n\u001b[1;32m    467\u001b[0m                 \u001b[0;31m# Restore the dynamic layer stack depth if necessary.\u001b[0m\u001b[0;34m\u001b[0m\u001b[0;34m\u001b[0m\u001b[0m\n",
            "\u001b[0;32m/usr/local/lib/python3.10/dist-packages/torch/_dynamo/convert_frame.py\u001b[0m in \u001b[0;36m__call__\u001b[0;34m(self, frame, cache_entry, frame_state)\u001b[0m\n\u001b[1;32m   1267\u001b[0m         \u001b[0;32mwith\u001b[0m \u001b[0mcompile_lock\u001b[0m\u001b[0;34m,\u001b[0m \u001b[0m_disable_current_modes\u001b[0m\u001b[0;34m(\u001b[0m\u001b[0;34m)\u001b[0m\u001b[0;34m:\u001b[0m\u001b[0;34m\u001b[0m\u001b[0;34m\u001b[0m\u001b[0m\n\u001b[1;32m   1268\u001b[0m             \u001b[0;31m# skip=1: skip this frame\u001b[0m\u001b[0;34m\u001b[0m\u001b[0;34m\u001b[0m\u001b[0m\n\u001b[0;32m-> 1269\u001b[0;31m             return self._torchdynamo_orig_callable(\n\u001b[0m\u001b[1;32m   1270\u001b[0m                 \u001b[0mframe\u001b[0m\u001b[0;34m,\u001b[0m \u001b[0mcache_entry\u001b[0m\u001b[0;34m,\u001b[0m \u001b[0mself\u001b[0m\u001b[0;34m.\u001b[0m\u001b[0mhooks\u001b[0m\u001b[0;34m,\u001b[0m \u001b[0mframe_state\u001b[0m\u001b[0;34m,\u001b[0m \u001b[0mskip\u001b[0m\u001b[0;34m=\u001b[0m\u001b[0;36m1\u001b[0m\u001b[0;34m\u001b[0m\u001b[0;34m\u001b[0m\u001b[0m\n\u001b[1;32m   1271\u001b[0m             )\n",
            "\u001b[0;32m/usr/local/lib/python3.10/dist-packages/torch/_dynamo/convert_frame.py\u001b[0m in \u001b[0;36m__call__\u001b[0;34m(self, frame, cache_entry, hooks, frame_state, skip)\u001b[0m\n\u001b[1;32m   1062\u001b[0m         \u001b[0mcounters\u001b[0m\u001b[0;34m[\u001b[0m\u001b[0;34m\"frames\"\u001b[0m\u001b[0;34m]\u001b[0m\u001b[0;34m[\u001b[0m\u001b[0;34m\"total\"\u001b[0m\u001b[0;34m]\u001b[0m \u001b[0;34m+=\u001b[0m \u001b[0;36m1\u001b[0m\u001b[0;34m\u001b[0m\u001b[0;34m\u001b[0m\u001b[0m\n\u001b[1;32m   1063\u001b[0m         \u001b[0;32mtry\u001b[0m\u001b[0;34m:\u001b[0m\u001b[0;34m\u001b[0m\u001b[0;34m\u001b[0m\u001b[0m\n\u001b[0;32m-> 1064\u001b[0;31m             result = self._inner_convert(\n\u001b[0m\u001b[1;32m   1065\u001b[0m                 \u001b[0mframe\u001b[0m\u001b[0;34m,\u001b[0m \u001b[0mcache_entry\u001b[0m\u001b[0;34m,\u001b[0m \u001b[0mhooks\u001b[0m\u001b[0;34m,\u001b[0m \u001b[0mframe_state\u001b[0m\u001b[0;34m,\u001b[0m \u001b[0mskip\u001b[0m\u001b[0;34m=\u001b[0m\u001b[0mskip\u001b[0m \u001b[0;34m+\u001b[0m \u001b[0;36m1\u001b[0m\u001b[0;34m\u001b[0m\u001b[0;34m\u001b[0m\u001b[0m\n\u001b[1;32m   1066\u001b[0m             )\n",
            "\u001b[0;32m/usr/local/lib/python3.10/dist-packages/torch/_dynamo/convert_frame.py\u001b[0m in \u001b[0;36m__call__\u001b[0;34m(self, frame, cache_entry, hooks, frame_state, skip)\u001b[0m\n\u001b[1;32m    524\u001b[0m         )\n\u001b[1;32m    525\u001b[0m \u001b[0;34m\u001b[0m\u001b[0m\n\u001b[0;32m--> 526\u001b[0;31m         return _compile(\n\u001b[0m\u001b[1;32m    527\u001b[0m             \u001b[0mframe\u001b[0m\u001b[0;34m.\u001b[0m\u001b[0mf_code\u001b[0m\u001b[0;34m,\u001b[0m\u001b[0;34m\u001b[0m\u001b[0;34m\u001b[0m\u001b[0m\n\u001b[1;32m    528\u001b[0m             \u001b[0mframe\u001b[0m\u001b[0;34m.\u001b[0m\u001b[0mf_globals\u001b[0m\u001b[0;34m,\u001b[0m\u001b[0;34m\u001b[0m\u001b[0;34m\u001b[0m\u001b[0m\n",
            "\u001b[0;32m/usr/local/lib/python3.10/dist-packages/torch/_dynamo/convert_frame.py\u001b[0m in \u001b[0;36m_compile\u001b[0;34m(code, globals, locals, builtins, compiler_fn, one_graph, export, export_constraints, hooks, cache_entry, cache_size, frame, frame_state, compile_id, skip)\u001b[0m\n\u001b[1;32m    922\u001b[0m         \u001b[0mguarded_code\u001b[0m \u001b[0;34m=\u001b[0m \u001b[0;32mNone\u001b[0m\u001b[0;34m\u001b[0m\u001b[0;34m\u001b[0m\u001b[0m\n\u001b[1;32m    923\u001b[0m         \u001b[0;32mtry\u001b[0m\u001b[0;34m:\u001b[0m\u001b[0;34m\u001b[0m\u001b[0;34m\u001b[0m\u001b[0m\n\u001b[0;32m--> 924\u001b[0;31m             \u001b[0mguarded_code\u001b[0m \u001b[0;34m=\u001b[0m \u001b[0mcompile_inner\u001b[0m\u001b[0;34m(\u001b[0m\u001b[0mcode\u001b[0m\u001b[0;34m,\u001b[0m \u001b[0mone_graph\u001b[0m\u001b[0;34m,\u001b[0m \u001b[0mhooks\u001b[0m\u001b[0;34m,\u001b[0m \u001b[0mtransform\u001b[0m\u001b[0;34m)\u001b[0m\u001b[0;34m\u001b[0m\u001b[0;34m\u001b[0m\u001b[0m\n\u001b[0m\u001b[1;32m    925\u001b[0m             \u001b[0;32mreturn\u001b[0m \u001b[0mguarded_code\u001b[0m\u001b[0;34m\u001b[0m\u001b[0;34m\u001b[0m\u001b[0m\n\u001b[1;32m    926\u001b[0m         \u001b[0;32mexcept\u001b[0m \u001b[0mException\u001b[0m \u001b[0;32mas\u001b[0m \u001b[0me\u001b[0m\u001b[0;34m:\u001b[0m\u001b[0;34m\u001b[0m\u001b[0;34m\u001b[0m\u001b[0m\n",
            "\u001b[0;32m/usr/local/lib/python3.10/dist-packages/torch/_dynamo/convert_frame.py\u001b[0m in \u001b[0;36mcompile_inner\u001b[0;34m(code, one_graph, hooks, transform)\u001b[0m\n\u001b[1;32m    664\u001b[0m         \u001b[0;32mwith\u001b[0m \u001b[0mdynamo_timed\u001b[0m\u001b[0;34m(\u001b[0m\u001b[0;34m\"_compile.compile_inner\"\u001b[0m\u001b[0;34m,\u001b[0m \u001b[0mphase_name\u001b[0m\u001b[0;34m=\u001b[0m\u001b[0;34m\"entire_frame_compile\"\u001b[0m\u001b[0;34m)\u001b[0m\u001b[0;34m:\u001b[0m\u001b[0;34m\u001b[0m\u001b[0;34m\u001b[0m\u001b[0m\n\u001b[1;32m    665\u001b[0m             \u001b[0;32mwith\u001b[0m \u001b[0mCompileTimeInstructionCounter\u001b[0m\u001b[0;34m.\u001b[0m\u001b[0mrecord\u001b[0m\u001b[0;34m(\u001b[0m\u001b[0;34m)\u001b[0m\u001b[0;34m:\u001b[0m\u001b[0;34m\u001b[0m\u001b[0;34m\u001b[0m\u001b[0m\n\u001b[0;32m--> 666\u001b[0;31m                 \u001b[0;32mreturn\u001b[0m \u001b[0m_compile_inner\u001b[0m\u001b[0;34m(\u001b[0m\u001b[0mcode\u001b[0m\u001b[0;34m,\u001b[0m \u001b[0mone_graph\u001b[0m\u001b[0;34m,\u001b[0m \u001b[0mhooks\u001b[0m\u001b[0;34m,\u001b[0m \u001b[0mtransform\u001b[0m\u001b[0;34m)\u001b[0m\u001b[0;34m\u001b[0m\u001b[0;34m\u001b[0m\u001b[0m\n\u001b[0m\u001b[1;32m    667\u001b[0m \u001b[0;34m\u001b[0m\u001b[0m\n\u001b[1;32m    668\u001b[0m     \u001b[0;34m@\u001b[0m\u001b[0mcompile_time_strobelight_meta\u001b[0m\u001b[0;34m(\u001b[0m\u001b[0mphase_name\u001b[0m\u001b[0;34m=\u001b[0m\u001b[0;34m\"compile_inner\"\u001b[0m\u001b[0;34m)\u001b[0m\u001b[0;34m\u001b[0m\u001b[0;34m\u001b[0m\u001b[0m\n",
            "\u001b[0;32m/usr/local/lib/python3.10/dist-packages/torch/_utils_internal.py\u001b[0m in \u001b[0;36mwrapper_function\u001b[0;34m(*args, **kwargs)\u001b[0m\n\u001b[1;32m     85\u001b[0m \u001b[0;34m\u001b[0m\u001b[0m\n\u001b[1;32m     86\u001b[0m             \u001b[0;32mif\u001b[0m \u001b[0;32mnot\u001b[0m \u001b[0mStrobelightCompileTimeProfiler\u001b[0m\u001b[0;34m.\u001b[0m\u001b[0menabled\u001b[0m\u001b[0;34m:\u001b[0m\u001b[0;34m\u001b[0m\u001b[0;34m\u001b[0m\u001b[0m\n\u001b[0;32m---> 87\u001b[0;31m                 \u001b[0;32mreturn\u001b[0m \u001b[0mfunction\u001b[0m\u001b[0;34m(\u001b[0m\u001b[0;34m*\u001b[0m\u001b[0margs\u001b[0m\u001b[0;34m,\u001b[0m \u001b[0;34m**\u001b[0m\u001b[0mkwargs\u001b[0m\u001b[0;34m)\u001b[0m\u001b[0;34m\u001b[0m\u001b[0;34m\u001b[0m\u001b[0m\n\u001b[0m\u001b[1;32m     88\u001b[0m \u001b[0;34m\u001b[0m\u001b[0m\n\u001b[1;32m     89\u001b[0m             return StrobelightCompileTimeProfiler.profile_compile_time(\n",
            "\u001b[0;32m/usr/local/lib/python3.10/dist-packages/torch/_dynamo/convert_frame.py\u001b[0m in \u001b[0;36m_compile_inner\u001b[0;34m(code, one_graph, hooks, transform)\u001b[0m\n\u001b[1;32m    697\u001b[0m             \u001b[0mCompileContext\u001b[0m\u001b[0;34m.\u001b[0m\u001b[0mget\u001b[0m\u001b[0;34m(\u001b[0m\u001b[0;34m)\u001b[0m\u001b[0;34m.\u001b[0m\u001b[0mattempt\u001b[0m \u001b[0;34m=\u001b[0m \u001b[0mattempt\u001b[0m\u001b[0;34m\u001b[0m\u001b[0;34m\u001b[0m\u001b[0m\n\u001b[1;32m    698\u001b[0m             \u001b[0;32mtry\u001b[0m\u001b[0;34m:\u001b[0m\u001b[0;34m\u001b[0m\u001b[0;34m\u001b[0m\u001b[0m\n\u001b[0;32m--> 699\u001b[0;31m                 \u001b[0mout_code\u001b[0m \u001b[0;34m=\u001b[0m \u001b[0mtransform_code_object\u001b[0m\u001b[0;34m(\u001b[0m\u001b[0mcode\u001b[0m\u001b[0;34m,\u001b[0m \u001b[0mtransform\u001b[0m\u001b[0;34m)\u001b[0m\u001b[0;34m\u001b[0m\u001b[0;34m\u001b[0m\u001b[0m\n\u001b[0m\u001b[1;32m    700\u001b[0m                 \u001b[0;32mbreak\u001b[0m\u001b[0;34m\u001b[0m\u001b[0;34m\u001b[0m\u001b[0m\n\u001b[1;32m    701\u001b[0m             \u001b[0;32mexcept\u001b[0m \u001b[0mexc\u001b[0m\u001b[0;34m.\u001b[0m\u001b[0mRestartAnalysis\u001b[0m \u001b[0;32mas\u001b[0m \u001b[0me\u001b[0m\u001b[0;34m:\u001b[0m\u001b[0;34m\u001b[0m\u001b[0;34m\u001b[0m\u001b[0m\n",
            "\u001b[0;32m/usr/local/lib/python3.10/dist-packages/torch/_dynamo/bytecode_transformation.py\u001b[0m in \u001b[0;36mtransform_code_object\u001b[0;34m(code, transformations, safe)\u001b[0m\n\u001b[1;32m   1320\u001b[0m     \u001b[0mpropagate_line_nums\u001b[0m\u001b[0;34m(\u001b[0m\u001b[0minstructions\u001b[0m\u001b[0;34m)\u001b[0m\u001b[0;34m\u001b[0m\u001b[0;34m\u001b[0m\u001b[0m\n\u001b[1;32m   1321\u001b[0m \u001b[0;34m\u001b[0m\u001b[0m\n\u001b[0;32m-> 1322\u001b[0;31m     \u001b[0mtransformations\u001b[0m\u001b[0;34m(\u001b[0m\u001b[0minstructions\u001b[0m\u001b[0;34m,\u001b[0m \u001b[0mcode_options\u001b[0m\u001b[0;34m)\u001b[0m\u001b[0;34m\u001b[0m\u001b[0;34m\u001b[0m\u001b[0m\n\u001b[0m\u001b[1;32m   1323\u001b[0m     \u001b[0;32mreturn\u001b[0m \u001b[0mclean_and_assemble_instructions\u001b[0m\u001b[0;34m(\u001b[0m\u001b[0minstructions\u001b[0m\u001b[0;34m,\u001b[0m \u001b[0mkeys\u001b[0m\u001b[0;34m,\u001b[0m \u001b[0mcode_options\u001b[0m\u001b[0;34m)\u001b[0m\u001b[0;34m[\u001b[0m\u001b[0;36m1\u001b[0m\u001b[0;34m]\u001b[0m\u001b[0;34m\u001b[0m\u001b[0;34m\u001b[0m\u001b[0m\n\u001b[1;32m   1324\u001b[0m \u001b[0;34m\u001b[0m\u001b[0m\n",
            "\u001b[0;32m/usr/local/lib/python3.10/dist-packages/torch/_dynamo/convert_frame.py\u001b[0m in \u001b[0;36m_fn\u001b[0;34m(*args, **kwargs)\u001b[0m\n\u001b[1;32m    217\u001b[0m             )\n\u001b[1;32m    218\u001b[0m             \u001b[0;32mtry\u001b[0m\u001b[0;34m:\u001b[0m\u001b[0;34m\u001b[0m\u001b[0;34m\u001b[0m\u001b[0m\n\u001b[0;32m--> 219\u001b[0;31m                 \u001b[0;32mreturn\u001b[0m \u001b[0mfn\u001b[0m\u001b[0;34m(\u001b[0m\u001b[0;34m*\u001b[0m\u001b[0margs\u001b[0m\u001b[0;34m,\u001b[0m \u001b[0;34m**\u001b[0m\u001b[0mkwargs\u001b[0m\u001b[0;34m)\u001b[0m\u001b[0;34m\u001b[0m\u001b[0;34m\u001b[0m\u001b[0m\n\u001b[0m\u001b[1;32m    220\u001b[0m             \u001b[0;32mfinally\u001b[0m\u001b[0;34m:\u001b[0m\u001b[0;34m\u001b[0m\u001b[0;34m\u001b[0m\u001b[0m\n\u001b[1;32m    221\u001b[0m                 \u001b[0mcleanup\u001b[0m\u001b[0;34m.\u001b[0m\u001b[0mclose\u001b[0m\u001b[0;34m(\u001b[0m\u001b[0;34m)\u001b[0m\u001b[0;34m\u001b[0m\u001b[0;34m\u001b[0m\u001b[0m\n",
            "\u001b[0;32m/usr/local/lib/python3.10/dist-packages/torch/_dynamo/convert_frame.py\u001b[0m in \u001b[0;36mtransform\u001b[0;34m(instructions, code_options)\u001b[0m\n\u001b[1;32m    632\u001b[0m         \u001b[0;32mtry\u001b[0m\u001b[0;34m:\u001b[0m\u001b[0;34m\u001b[0m\u001b[0;34m\u001b[0m\u001b[0m\n\u001b[1;32m    633\u001b[0m             \u001b[0;32mwith\u001b[0m \u001b[0mtracing\u001b[0m\u001b[0;34m(\u001b[0m\u001b[0mtracer\u001b[0m\u001b[0;34m.\u001b[0m\u001b[0moutput\u001b[0m\u001b[0;34m.\u001b[0m\u001b[0mtracing_context\u001b[0m\u001b[0;34m)\u001b[0m\u001b[0;34m,\u001b[0m \u001b[0mtracer\u001b[0m\u001b[0;34m.\u001b[0m\u001b[0mset_current_tx\u001b[0m\u001b[0;34m(\u001b[0m\u001b[0;34m)\u001b[0m\u001b[0;34m:\u001b[0m\u001b[0;34m\u001b[0m\u001b[0;34m\u001b[0m\u001b[0m\n\u001b[0;32m--> 634\u001b[0;31m                 \u001b[0mtracer\u001b[0m\u001b[0;34m.\u001b[0m\u001b[0mrun\u001b[0m\u001b[0;34m(\u001b[0m\u001b[0;34m)\u001b[0m\u001b[0;34m\u001b[0m\u001b[0;34m\u001b[0m\u001b[0m\n\u001b[0m\u001b[1;32m    635\u001b[0m         \u001b[0;32mexcept\u001b[0m \u001b[0mexc\u001b[0m\u001b[0;34m.\u001b[0m\u001b[0mUnspecializeRestartAnalysis\u001b[0m\u001b[0;34m:\u001b[0m\u001b[0;34m\u001b[0m\u001b[0;34m\u001b[0m\u001b[0m\n\u001b[1;32m    636\u001b[0m             \u001b[0mspeculation_log\u001b[0m\u001b[0;34m.\u001b[0m\u001b[0mclear\u001b[0m\u001b[0;34m(\u001b[0m\u001b[0;34m)\u001b[0m\u001b[0;34m\u001b[0m\u001b[0;34m\u001b[0m\u001b[0m\n",
            "\u001b[0;32m/usr/local/lib/python3.10/dist-packages/torch/_dynamo/symbolic_convert.py\u001b[0m in \u001b[0;36mrun\u001b[0;34m(self)\u001b[0m\n\u001b[1;32m   2794\u001b[0m \u001b[0;34m\u001b[0m\u001b[0m\n\u001b[1;32m   2795\u001b[0m     \u001b[0;32mdef\u001b[0m \u001b[0mrun\u001b[0m\u001b[0;34m(\u001b[0m\u001b[0mself\u001b[0m\u001b[0;34m)\u001b[0m\u001b[0;34m:\u001b[0m\u001b[0;34m\u001b[0m\u001b[0;34m\u001b[0m\u001b[0m\n\u001b[0;32m-> 2796\u001b[0;31m         \u001b[0msuper\u001b[0m\u001b[0;34m(\u001b[0m\u001b[0;34m)\u001b[0m\u001b[0;34m.\u001b[0m\u001b[0mrun\u001b[0m\u001b[0;34m(\u001b[0m\u001b[0;34m)\u001b[0m\u001b[0;34m\u001b[0m\u001b[0;34m\u001b[0m\u001b[0m\n\u001b[0m\u001b[1;32m   2797\u001b[0m \u001b[0;34m\u001b[0m\u001b[0m\n\u001b[1;32m   2798\u001b[0m     \u001b[0;32mdef\u001b[0m \u001b[0mmatch_nested_cell\u001b[0m\u001b[0;34m(\u001b[0m\u001b[0mself\u001b[0m\u001b[0;34m,\u001b[0m \u001b[0mname\u001b[0m\u001b[0;34m,\u001b[0m \u001b[0mcell\u001b[0m\u001b[0;34m)\u001b[0m\u001b[0;34m:\u001b[0m\u001b[0;34m\u001b[0m\u001b[0;34m\u001b[0m\u001b[0m\n",
            "\u001b[0;32m/usr/local/lib/python3.10/dist-packages/torch/_dynamo/symbolic_convert.py\u001b[0m in \u001b[0;36mrun\u001b[0;34m(self)\u001b[0m\n\u001b[1;32m    981\u001b[0m             \u001b[0;32mtry\u001b[0m\u001b[0;34m:\u001b[0m\u001b[0;34m\u001b[0m\u001b[0;34m\u001b[0m\u001b[0m\n\u001b[1;32m    982\u001b[0m                 \u001b[0mself\u001b[0m\u001b[0;34m.\u001b[0m\u001b[0moutput\u001b[0m\u001b[0;34m.\u001b[0m\u001b[0mpush_tx\u001b[0m\u001b[0;34m(\u001b[0m\u001b[0mself\u001b[0m\u001b[0;34m)\u001b[0m\u001b[0;34m\u001b[0m\u001b[0;34m\u001b[0m\u001b[0m\n\u001b[0;32m--> 983\u001b[0;31m                 \u001b[0;32mwhile\u001b[0m \u001b[0mself\u001b[0m\u001b[0;34m.\u001b[0m\u001b[0mstep\u001b[0m\u001b[0;34m(\u001b[0m\u001b[0;34m)\u001b[0m\u001b[0;34m:\u001b[0m\u001b[0;34m\u001b[0m\u001b[0;34m\u001b[0m\u001b[0m\n\u001b[0m\u001b[1;32m    984\u001b[0m                     \u001b[0;32mpass\u001b[0m\u001b[0;34m\u001b[0m\u001b[0;34m\u001b[0m\u001b[0m\n\u001b[1;32m    985\u001b[0m             \u001b[0;32mexcept\u001b[0m \u001b[0mBackendCompilerFailed\u001b[0m\u001b[0;34m:\u001b[0m\u001b[0;34m\u001b[0m\u001b[0;34m\u001b[0m\u001b[0m\n",
            "\u001b[0;32m/usr/local/lib/python3.10/dist-packages/torch/_dynamo/symbolic_convert.py\u001b[0m in \u001b[0;36mstep\u001b[0;34m(self)\u001b[0m\n\u001b[1;32m    893\u001b[0m \u001b[0;34m\u001b[0m\u001b[0m\n\u001b[1;32m    894\u001b[0m         \u001b[0;32mtry\u001b[0m\u001b[0;34m:\u001b[0m\u001b[0;34m\u001b[0m\u001b[0;34m\u001b[0m\u001b[0m\n\u001b[0;32m--> 895\u001b[0;31m             \u001b[0mself\u001b[0m\u001b[0;34m.\u001b[0m\u001b[0mdispatch_table\u001b[0m\u001b[0;34m[\u001b[0m\u001b[0minst\u001b[0m\u001b[0;34m.\u001b[0m\u001b[0mopcode\u001b[0m\u001b[0;34m]\u001b[0m\u001b[0;34m(\u001b[0m\u001b[0mself\u001b[0m\u001b[0;34m,\u001b[0m \u001b[0minst\u001b[0m\u001b[0;34m)\u001b[0m\u001b[0;34m\u001b[0m\u001b[0;34m\u001b[0m\u001b[0m\n\u001b[0m\u001b[1;32m    896\u001b[0m             \u001b[0;32mreturn\u001b[0m \u001b[0;32mnot\u001b[0m \u001b[0mself\u001b[0m\u001b[0;34m.\u001b[0m\u001b[0moutput\u001b[0m\u001b[0;34m.\u001b[0m\u001b[0mshould_exit\u001b[0m\u001b[0;34m\u001b[0m\u001b[0;34m\u001b[0m\u001b[0m\n\u001b[1;32m    897\u001b[0m         \u001b[0;32mexcept\u001b[0m \u001b[0mexc\u001b[0m\u001b[0;34m.\u001b[0m\u001b[0mObservedException\u001b[0m \u001b[0;32mas\u001b[0m \u001b[0me\u001b[0m\u001b[0;34m:\u001b[0m\u001b[0;34m\u001b[0m\u001b[0;34m\u001b[0m\u001b[0m\n",
            "\u001b[0;32m/usr/local/lib/python3.10/dist-packages/torch/_dynamo/symbolic_convert.py\u001b[0m in \u001b[0;36mRETURN_VALUE\u001b[0;34m(self, inst)\u001b[0m\n\u001b[1;32m   2985\u001b[0m \u001b[0;34m\u001b[0m\u001b[0m\n\u001b[1;32m   2986\u001b[0m     \u001b[0;32mdef\u001b[0m \u001b[0mRETURN_VALUE\u001b[0m\u001b[0;34m(\u001b[0m\u001b[0mself\u001b[0m\u001b[0;34m,\u001b[0m \u001b[0minst\u001b[0m\u001b[0;34m)\u001b[0m\u001b[0;34m:\u001b[0m\u001b[0;34m\u001b[0m\u001b[0;34m\u001b[0m\u001b[0m\n\u001b[0;32m-> 2987\u001b[0;31m         \u001b[0mself\u001b[0m\u001b[0;34m.\u001b[0m\u001b[0m_return\u001b[0m\u001b[0;34m(\u001b[0m\u001b[0minst\u001b[0m\u001b[0;34m)\u001b[0m\u001b[0;34m\u001b[0m\u001b[0;34m\u001b[0m\u001b[0m\n\u001b[0m\u001b[1;32m   2988\u001b[0m \u001b[0;34m\u001b[0m\u001b[0m\n\u001b[1;32m   2989\u001b[0m     \u001b[0;32mdef\u001b[0m \u001b[0mRETURN_CONST\u001b[0m\u001b[0;34m(\u001b[0m\u001b[0mself\u001b[0m\u001b[0;34m,\u001b[0m \u001b[0minst\u001b[0m\u001b[0;34m)\u001b[0m\u001b[0;34m:\u001b[0m\u001b[0;34m\u001b[0m\u001b[0;34m\u001b[0m\u001b[0m\n",
            "\u001b[0;32m/usr/local/lib/python3.10/dist-packages/torch/_dynamo/symbolic_convert.py\u001b[0m in \u001b[0;36m_return\u001b[0;34m(self, inst)\u001b[0m\n\u001b[1;32m   2970\u001b[0m         )\n\u001b[1;32m   2971\u001b[0m         \u001b[0mlog\u001b[0m\u001b[0;34m.\u001b[0m\u001b[0mdebug\u001b[0m\u001b[0;34m(\u001b[0m\u001b[0;34m\"%s triggered compile\"\u001b[0m\u001b[0;34m,\u001b[0m \u001b[0minst\u001b[0m\u001b[0;34m.\u001b[0m\u001b[0mopname\u001b[0m\u001b[0;34m)\u001b[0m\u001b[0;34m\u001b[0m\u001b[0;34m\u001b[0m\u001b[0m\n\u001b[0;32m-> 2972\u001b[0;31m         self.output.compile_subgraph(\n\u001b[0m\u001b[1;32m   2973\u001b[0m             \u001b[0mself\u001b[0m\u001b[0;34m,\u001b[0m\u001b[0;34m\u001b[0m\u001b[0;34m\u001b[0m\u001b[0m\n\u001b[1;32m   2974\u001b[0m             reason=GraphCompileReason(\n",
            "\u001b[0;32m/usr/local/lib/python3.10/dist-packages/torch/_dynamo/output_graph.py\u001b[0m in \u001b[0;36mcompile_subgraph\u001b[0;34m(self, tx, partial_convert, reason)\u001b[0m\n\u001b[1;32m   1115\u001b[0m             \u001b[0;31m# optimization to generate better code in a common case\u001b[0m\u001b[0;34m\u001b[0m\u001b[0;34m\u001b[0m\u001b[0m\n\u001b[1;32m   1116\u001b[0m             self.add_output_instructions(\n\u001b[0;32m-> 1117\u001b[0;31m                 \u001b[0mself\u001b[0m\u001b[0;34m.\u001b[0m\u001b[0mcompile_and_call_fx_graph\u001b[0m\u001b[0;34m(\u001b[0m\u001b[0mtx\u001b[0m\u001b[0;34m,\u001b[0m \u001b[0mlist\u001b[0m\u001b[0;34m(\u001b[0m\u001b[0mreversed\u001b[0m\u001b[0;34m(\u001b[0m\u001b[0mstack_values\u001b[0m\u001b[0;34m)\u001b[0m\u001b[0;34m)\u001b[0m\u001b[0;34m,\u001b[0m \u001b[0mroot\u001b[0m\u001b[0;34m)\u001b[0m\u001b[0;34m\u001b[0m\u001b[0;34m\u001b[0m\u001b[0m\n\u001b[0m\u001b[1;32m   1118\u001b[0m                 \u001b[0;34m+\u001b[0m \u001b[0;34m[\u001b[0m\u001b[0mcreate_instruction\u001b[0m\u001b[0;34m(\u001b[0m\u001b[0;34m\"UNPACK_SEQUENCE\"\u001b[0m\u001b[0;34m,\u001b[0m \u001b[0marg\u001b[0m\u001b[0;34m=\u001b[0m\u001b[0mlen\u001b[0m\u001b[0;34m(\u001b[0m\u001b[0mstack_values\u001b[0m\u001b[0;34m)\u001b[0m\u001b[0;34m)\u001b[0m\u001b[0;34m]\u001b[0m\u001b[0;34m\u001b[0m\u001b[0;34m\u001b[0m\u001b[0m\n\u001b[1;32m   1119\u001b[0m             )\n",
            "\u001b[0;32m/usr/local/lib/python3.10/dist-packages/torch/_dynamo/output_graph.py\u001b[0m in \u001b[0;36mcompile_and_call_fx_graph\u001b[0;34m(self, tx, rv, root)\u001b[0m\n\u001b[1;32m   1367\u001b[0m \u001b[0;34m\u001b[0m\u001b[0m\n\u001b[1;32m   1368\u001b[0m             \u001b[0;32mwith\u001b[0m \u001b[0mself\u001b[0m\u001b[0;34m.\u001b[0m\u001b[0mrestore_global_state\u001b[0m\u001b[0;34m(\u001b[0m\u001b[0;34m)\u001b[0m\u001b[0;34m:\u001b[0m\u001b[0;34m\u001b[0m\u001b[0;34m\u001b[0m\u001b[0m\n\u001b[0;32m-> 1369\u001b[0;31m                 \u001b[0mcompiled_fn\u001b[0m \u001b[0;34m=\u001b[0m \u001b[0mself\u001b[0m\u001b[0;34m.\u001b[0m\u001b[0mcall_user_compiler\u001b[0m\u001b[0;34m(\u001b[0m\u001b[0mgm\u001b[0m\u001b[0;34m)\u001b[0m\u001b[0;34m\u001b[0m\u001b[0;34m\u001b[0m\u001b[0m\n\u001b[0m\u001b[1;32m   1370\u001b[0m \u001b[0;34m\u001b[0m\u001b[0m\n\u001b[1;32m   1371\u001b[0m             \u001b[0;32mfrom\u001b[0m \u001b[0mtorch\u001b[0m\u001b[0;34m.\u001b[0m\u001b[0mfx\u001b[0m\u001b[0;34m.\u001b[0m\u001b[0m_lazy_graph_module\u001b[0m \u001b[0;32mimport\u001b[0m \u001b[0m_LazyGraphModule\u001b[0m\u001b[0;34m\u001b[0m\u001b[0;34m\u001b[0m\u001b[0m\n",
            "\u001b[0;32m/usr/local/lib/python3.10/dist-packages/torch/_dynamo/output_graph.py\u001b[0m in \u001b[0;36mcall_user_compiler\u001b[0;34m(self, gm)\u001b[0m\n\u001b[1;32m   1414\u001b[0m             \u001b[0;34m\"OutputGraph.call_user_compiler\"\u001b[0m\u001b[0;34m,\u001b[0m \u001b[0mphase_name\u001b[0m\u001b[0;34m=\u001b[0m\u001b[0;34m\"backend_compile\"\u001b[0m\u001b[0;34m\u001b[0m\u001b[0;34m\u001b[0m\u001b[0m\n\u001b[1;32m   1415\u001b[0m         ):\n\u001b[0;32m-> 1416\u001b[0;31m             \u001b[0;32mreturn\u001b[0m \u001b[0mself\u001b[0m\u001b[0;34m.\u001b[0m\u001b[0m_call_user_compiler\u001b[0m\u001b[0;34m(\u001b[0m\u001b[0mgm\u001b[0m\u001b[0;34m)\u001b[0m\u001b[0;34m\u001b[0m\u001b[0;34m\u001b[0m\u001b[0m\n\u001b[0m\u001b[1;32m   1417\u001b[0m \u001b[0;34m\u001b[0m\u001b[0m\n\u001b[1;32m   1418\u001b[0m     \u001b[0;32mdef\u001b[0m \u001b[0m_call_user_compiler\u001b[0m\u001b[0;34m(\u001b[0m\u001b[0mself\u001b[0m\u001b[0;34m,\u001b[0m \u001b[0mgm\u001b[0m\u001b[0;34m:\u001b[0m \u001b[0mfx\u001b[0m\u001b[0;34m.\u001b[0m\u001b[0mGraphModule\u001b[0m\u001b[0;34m)\u001b[0m \u001b[0;34m->\u001b[0m \u001b[0mCompiledFn\u001b[0m\u001b[0;34m:\u001b[0m\u001b[0;34m\u001b[0m\u001b[0;34m\u001b[0m\u001b[0m\n",
            "\u001b[0;32m/usr/local/lib/python3.10/dist-packages/torch/_dynamo/output_graph.py\u001b[0m in \u001b[0;36m_call_user_compiler\u001b[0;34m(self, gm)\u001b[0m\n\u001b[1;32m   1463\u001b[0m             \u001b[0;32mraise\u001b[0m \u001b[0me\u001b[0m\u001b[0;34m\u001b[0m\u001b[0;34m\u001b[0m\u001b[0m\n\u001b[1;32m   1464\u001b[0m         \u001b[0;32mexcept\u001b[0m \u001b[0mException\u001b[0m \u001b[0;32mas\u001b[0m \u001b[0me\u001b[0m\u001b[0;34m:\u001b[0m\u001b[0;34m\u001b[0m\u001b[0;34m\u001b[0m\u001b[0m\n\u001b[0;32m-> 1465\u001b[0;31m             \u001b[0;32mraise\u001b[0m \u001b[0mBackendCompilerFailed\u001b[0m\u001b[0;34m(\u001b[0m\u001b[0mself\u001b[0m\u001b[0;34m.\u001b[0m\u001b[0mcompiler_fn\u001b[0m\u001b[0;34m,\u001b[0m \u001b[0me\u001b[0m\u001b[0;34m)\u001b[0m \u001b[0;32mfrom\u001b[0m \u001b[0me\u001b[0m\u001b[0;34m\u001b[0m\u001b[0;34m\u001b[0m\u001b[0m\n\u001b[0m\u001b[1;32m   1466\u001b[0m \u001b[0;34m\u001b[0m\u001b[0m\n\u001b[1;32m   1467\u001b[0m         signpost_event(\n",
            "\u001b[0;31mBackendCompilerFailed\u001b[0m: backend='inductor' raised:\nRuntimeError: aten::mul() Expected a value of type 'number' for argument 'other' but instead found type 'FakeTensor'.\nPosition: 1\nValue: FakeTensor(..., size=(20, 20))\nDeclaration: aten::mul.Scalar(Tensor self, Scalar other) -> Tensor\nCast error details: Cannot cast FakeTensor(..., size=(20, 20)) to number\n\nSet TORCH_LOGS=\"+dynamo\" and TORCHDYNAMO_VERBOSE=1 for more information\n\n\nYou can suppress this exception and fall back to eager by setting:\n    import torch._dynamo\n    torch._dynamo.config.suppress_errors = True\n"
          ]
        }
      ]
    },
    {
      "cell_type": "code",
      "source": [],
      "metadata": {
        "id": "ZTi1d0N8jnVe"
      },
      "execution_count": null,
      "outputs": []
    }
  ]
}